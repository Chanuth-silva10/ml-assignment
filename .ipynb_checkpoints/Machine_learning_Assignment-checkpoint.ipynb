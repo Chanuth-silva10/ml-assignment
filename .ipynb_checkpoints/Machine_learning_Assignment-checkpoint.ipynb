{
 "cells": [
  {
   "cell_type": "markdown",
   "id": "5e22a721",
   "metadata": {},
   "source": [
    "# Using machine learning to predict strokes"
   ]
  },
  {
   "cell_type": "markdown",
   "id": "aa35280c",
   "metadata": {},
   "source": [
    "## Data Preparation"
   ]
  },
  {
   "cell_type": "markdown",
   "id": "267fedfd",
   "metadata": {},
   "source": [
    "### Required Specific Libraries"
   ]
  },
  {
   "cell_type": "code",
   "execution_count": 1,
   "id": "7d960369",
   "metadata": {},
   "outputs": [],
   "source": [
    "# for the linear algebra\n",
    "import numpy as npy\n",
    "\n",
    "# for the data processing\n",
    "import pandas as pds\n",
    "\n",
    "# Visualizations\n",
    "import matplotlib.pyplot as matplt\n",
    "from matplotlib import rcParams\n",
    "import seaborn as sns\n",
    "%matplotlib inline"
   ]
  },
  {
   "cell_type": "markdown",
   "id": "0da2c09b",
   "metadata": {},
   "source": [
    "### Import our dataset"
   ]
  },
  {
   "cell_type": "code",
   "execution_count": 3,
   "id": "0df06cc7",
   "metadata": {},
   "outputs": [],
   "source": [
    "#Import the dataset\n",
    "dataframe = pds.read_csv('storke_data_for_healthy.csv')"
   ]
  },
  {
   "cell_type": "code",
   "execution_count": null,
   "id": "c2edc510",
   "metadata": {},
   "outputs": [],
   "source": [
    "#View the first five rows from the data frame\n",
    "dataframe.head()"
   ]
  },
  {
   "cell_type": "code",
   "execution_count": null,
   "id": "93cb5d02",
   "metadata": {},
   "outputs": [],
   "source": []
  },
  {
   "cell_type": "code",
   "execution_count": null,
   "id": "af8643a1",
   "metadata": {},
   "outputs": [],
   "source": []
  },
  {
   "cell_type": "code",
   "execution_count": null,
   "id": "3d5c50a1",
   "metadata": {},
   "outputs": [],
   "source": []
  }
 ],
 "metadata": {
  "kernelspec": {
   "display_name": "Python 3 (ipykernel)",
   "language": "python",
   "name": "python3"
  },
  "language_info": {
   "codemirror_mode": {
    "name": "ipython",
    "version": 3
   },
   "file_extension": ".py",
   "mimetype": "text/x-python",
   "name": "python",
   "nbconvert_exporter": "python",
   "pygments_lexer": "ipython3",
   "version": "3.9.13"
  }
 },
 "nbformat": 4,
 "nbformat_minor": 5
}
