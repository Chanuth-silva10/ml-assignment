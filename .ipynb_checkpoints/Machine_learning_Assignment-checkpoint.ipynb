{
 "cells": [
  {
   "cell_type": "markdown",
   "id": "ca89708f",
   "metadata": {
    "slideshow": {
     "slide_type": "-"
    }
   },
   "source": [
    "# Using machine learning to predict strokes"
   ]
  },
  {
   "cell_type": "markdown",
   "id": "900e65f5",
   "metadata": {},
   "source": [
    "## Data Preparation"
   ]
  },
  {
   "cell_type": "markdown",
   "id": "16d00d1d",
   "metadata": {},
   "source": [
    "### Required Specific Libraries"
   ]
  },
  {
   "cell_type": "code",
   "execution_count": 145,
   "id": "05c5b239",
   "metadata": {},
   "outputs": [],
   "source": [
    "# for the linear algebra\n",
    "import numpy as npy\n",
    "\n",
    "# for the data processing\n",
    "import pandas as pds\n",
    "\n",
    "# Visualizations\n",
    "import matplotlib.pyplot as matplt\n",
    "from matplotlib import rcParams\n",
    "import seaborn as sns\n",
    "%matplotlib inline\n",
    "import warnings\n",
    "warnings.filterwarnings(\"ignore\")\n",
    "\n",
    "from sklearn.preprocessing import StandardScaler, LabelEncoder, OrdinalEncoder, OneHotEncoder\n",
    "from sklearn.compose import make_column_transformer\n",
    "from imblearn.over_sampling import SMOTE\n",
    "\n",
    "from sklearn.model_selection import train_test_split\n",
    "from sklearn.metrics import classification_report,ConfusionMatrixDisplay, accuracy_score, confusion_matrix, precision_score, recall_score\n",
    "\n",
    "# Algorithms\n",
    "from sklearn.ensemble import RandomForestClassifier\n",
    "from sklearn.svm import SVC\n",
    "from sklearn.tree import DecisionTreeClassifier\n",
    "from sklearn.linear_model import LogisticRegression"
   ]
  },
  {
   "cell_type": "markdown",
   "id": "59c14acf",
   "metadata": {},
   "source": [
    "### Import our dataset"
   ]
  },
  {
   "cell_type": "code",
   "execution_count": 146,
   "id": "1ffa48a2",
   "metadata": {},
   "outputs": [],
   "source": [
    "#Import the dataset\n",
    "dataframe = pds.read_csv('storke_data_for_healthy.csv')"
   ]
  },
  {
   "cell_type": "code",
   "execution_count": 147,
   "id": "d95e81f3",
   "metadata": {},
   "outputs": [
    {
     "data": {
      "text/html": [
       "<div>\n",
       "<style scoped>\n",
       "    .dataframe tbody tr th:only-of-type {\n",
       "        vertical-align: middle;\n",
       "    }\n",
       "\n",
       "    .dataframe tbody tr th {\n",
       "        vertical-align: top;\n",
       "    }\n",
       "\n",
       "    .dataframe thead th {\n",
       "        text-align: right;\n",
       "    }\n",
       "</style>\n",
       "<table border=\"1\" class=\"dataframe\">\n",
       "  <thead>\n",
       "    <tr style=\"text-align: right;\">\n",
       "      <th></th>\n",
       "      <th>id</th>\n",
       "      <th>gender</th>\n",
       "      <th>age</th>\n",
       "      <th>hypertension</th>\n",
       "      <th>heart_disease</th>\n",
       "      <th>ever_married</th>\n",
       "      <th>work_type</th>\n",
       "      <th>Residence_type</th>\n",
       "      <th>avg_glucose_level</th>\n",
       "      <th>bmi</th>\n",
       "      <th>smoking_status</th>\n",
       "      <th>stroke</th>\n",
       "    </tr>\n",
       "  </thead>\n",
       "  <tbody>\n",
       "    <tr>\n",
       "      <th>0</th>\n",
       "      <td>9046</td>\n",
       "      <td>Male</td>\n",
       "      <td>67.0</td>\n",
       "      <td>0</td>\n",
       "      <td>1</td>\n",
       "      <td>Yes</td>\n",
       "      <td>Private</td>\n",
       "      <td>Urban</td>\n",
       "      <td>228.69</td>\n",
       "      <td>36.6</td>\n",
       "      <td>formerly smoked</td>\n",
       "      <td>1</td>\n",
       "    </tr>\n",
       "    <tr>\n",
       "      <th>1</th>\n",
       "      <td>51676</td>\n",
       "      <td>Female</td>\n",
       "      <td>61.0</td>\n",
       "      <td>0</td>\n",
       "      <td>0</td>\n",
       "      <td>Yes</td>\n",
       "      <td>Self-employed</td>\n",
       "      <td>Rural</td>\n",
       "      <td>202.21</td>\n",
       "      <td>NaN</td>\n",
       "      <td>never smoked</td>\n",
       "      <td>1</td>\n",
       "    </tr>\n",
       "    <tr>\n",
       "      <th>2</th>\n",
       "      <td>31112</td>\n",
       "      <td>Male</td>\n",
       "      <td>80.0</td>\n",
       "      <td>0</td>\n",
       "      <td>1</td>\n",
       "      <td>Yes</td>\n",
       "      <td>Private</td>\n",
       "      <td>Rural</td>\n",
       "      <td>105.92</td>\n",
       "      <td>32.5</td>\n",
       "      <td>never smoked</td>\n",
       "      <td>1</td>\n",
       "    </tr>\n",
       "    <tr>\n",
       "      <th>3</th>\n",
       "      <td>60182</td>\n",
       "      <td>Female</td>\n",
       "      <td>49.0</td>\n",
       "      <td>0</td>\n",
       "      <td>0</td>\n",
       "      <td>Yes</td>\n",
       "      <td>Private</td>\n",
       "      <td>Urban</td>\n",
       "      <td>171.23</td>\n",
       "      <td>34.4</td>\n",
       "      <td>smokes</td>\n",
       "      <td>1</td>\n",
       "    </tr>\n",
       "    <tr>\n",
       "      <th>4</th>\n",
       "      <td>1665</td>\n",
       "      <td>Female</td>\n",
       "      <td>79.0</td>\n",
       "      <td>1</td>\n",
       "      <td>0</td>\n",
       "      <td>Yes</td>\n",
       "      <td>Self-employed</td>\n",
       "      <td>Rural</td>\n",
       "      <td>174.12</td>\n",
       "      <td>24.0</td>\n",
       "      <td>never smoked</td>\n",
       "      <td>1</td>\n",
       "    </tr>\n",
       "  </tbody>\n",
       "</table>\n",
       "</div>"
      ],
      "text/plain": [
       "      id  gender   age  hypertension  heart_disease ever_married  \\\n",
       "0   9046    Male  67.0             0              1          Yes   \n",
       "1  51676  Female  61.0             0              0          Yes   \n",
       "2  31112    Male  80.0             0              1          Yes   \n",
       "3  60182  Female  49.0             0              0          Yes   \n",
       "4   1665  Female  79.0             1              0          Yes   \n",
       "\n",
       "       work_type Residence_type  avg_glucose_level   bmi   smoking_status  \\\n",
       "0        Private          Urban             228.69  36.6  formerly smoked   \n",
       "1  Self-employed          Rural             202.21   NaN     never smoked   \n",
       "2        Private          Rural             105.92  32.5     never smoked   \n",
       "3        Private          Urban             171.23  34.4           smokes   \n",
       "4  Self-employed          Rural             174.12  24.0     never smoked   \n",
       "\n",
       "   stroke  \n",
       "0       1  \n",
       "1       1  \n",
       "2       1  \n",
       "3       1  \n",
       "4       1  "
      ]
     },
     "execution_count": 147,
     "metadata": {},
     "output_type": "execute_result"
    }
   ],
   "source": [
    "#View the first five rows from the data frame\n",
    "dataframe.head()"
   ]
  },
  {
   "cell_type": "code",
   "execution_count": 148,
   "id": "2a12620d",
   "metadata": {},
   "outputs": [
    {
     "data": {
      "text/html": [
       "<div>\n",
       "<style scoped>\n",
       "    .dataframe tbody tr th:only-of-type {\n",
       "        vertical-align: middle;\n",
       "    }\n",
       "\n",
       "    .dataframe tbody tr th {\n",
       "        vertical-align: top;\n",
       "    }\n",
       "\n",
       "    .dataframe thead th {\n",
       "        text-align: right;\n",
       "    }\n",
       "</style>\n",
       "<table border=\"1\" class=\"dataframe\">\n",
       "  <thead>\n",
       "    <tr style=\"text-align: right;\">\n",
       "      <th></th>\n",
       "      <th>id</th>\n",
       "      <th>gender</th>\n",
       "      <th>age</th>\n",
       "      <th>hypertension</th>\n",
       "      <th>heart_disease</th>\n",
       "      <th>ever_married</th>\n",
       "      <th>work_type</th>\n",
       "      <th>Residence_type</th>\n",
       "      <th>avg_glucose_level</th>\n",
       "      <th>bmi</th>\n",
       "      <th>smoking_status</th>\n",
       "      <th>stroke</th>\n",
       "    </tr>\n",
       "  </thead>\n",
       "  <tbody>\n",
       "    <tr>\n",
       "      <th>5105</th>\n",
       "      <td>18234</td>\n",
       "      <td>Female</td>\n",
       "      <td>80.0</td>\n",
       "      <td>1</td>\n",
       "      <td>0</td>\n",
       "      <td>Yes</td>\n",
       "      <td>Private</td>\n",
       "      <td>Urban</td>\n",
       "      <td>83.75</td>\n",
       "      <td>NaN</td>\n",
       "      <td>never smoked</td>\n",
       "      <td>0</td>\n",
       "    </tr>\n",
       "    <tr>\n",
       "      <th>5106</th>\n",
       "      <td>44873</td>\n",
       "      <td>Female</td>\n",
       "      <td>81.0</td>\n",
       "      <td>0</td>\n",
       "      <td>0</td>\n",
       "      <td>Yes</td>\n",
       "      <td>Self-employed</td>\n",
       "      <td>Urban</td>\n",
       "      <td>125.20</td>\n",
       "      <td>40.0</td>\n",
       "      <td>never smoked</td>\n",
       "      <td>0</td>\n",
       "    </tr>\n",
       "    <tr>\n",
       "      <th>5107</th>\n",
       "      <td>19723</td>\n",
       "      <td>Female</td>\n",
       "      <td>35.0</td>\n",
       "      <td>0</td>\n",
       "      <td>0</td>\n",
       "      <td>Yes</td>\n",
       "      <td>Self-employed</td>\n",
       "      <td>Rural</td>\n",
       "      <td>82.99</td>\n",
       "      <td>30.6</td>\n",
       "      <td>never smoked</td>\n",
       "      <td>0</td>\n",
       "    </tr>\n",
       "    <tr>\n",
       "      <th>5108</th>\n",
       "      <td>37544</td>\n",
       "      <td>Male</td>\n",
       "      <td>51.0</td>\n",
       "      <td>0</td>\n",
       "      <td>0</td>\n",
       "      <td>Yes</td>\n",
       "      <td>Private</td>\n",
       "      <td>Rural</td>\n",
       "      <td>166.29</td>\n",
       "      <td>25.6</td>\n",
       "      <td>formerly smoked</td>\n",
       "      <td>0</td>\n",
       "    </tr>\n",
       "    <tr>\n",
       "      <th>5109</th>\n",
       "      <td>44679</td>\n",
       "      <td>Female</td>\n",
       "      <td>44.0</td>\n",
       "      <td>0</td>\n",
       "      <td>0</td>\n",
       "      <td>Yes</td>\n",
       "      <td>Govt_job</td>\n",
       "      <td>Urban</td>\n",
       "      <td>85.28</td>\n",
       "      <td>26.2</td>\n",
       "      <td>Unknown</td>\n",
       "      <td>0</td>\n",
       "    </tr>\n",
       "  </tbody>\n",
       "</table>\n",
       "</div>"
      ],
      "text/plain": [
       "         id  gender   age  hypertension  heart_disease ever_married  \\\n",
       "5105  18234  Female  80.0             1              0          Yes   \n",
       "5106  44873  Female  81.0             0              0          Yes   \n",
       "5107  19723  Female  35.0             0              0          Yes   \n",
       "5108  37544    Male  51.0             0              0          Yes   \n",
       "5109  44679  Female  44.0             0              0          Yes   \n",
       "\n",
       "          work_type Residence_type  avg_glucose_level   bmi   smoking_status  \\\n",
       "5105        Private          Urban              83.75   NaN     never smoked   \n",
       "5106  Self-employed          Urban             125.20  40.0     never smoked   \n",
       "5107  Self-employed          Rural              82.99  30.6     never smoked   \n",
       "5108        Private          Rural             166.29  25.6  formerly smoked   \n",
       "5109       Govt_job          Urban              85.28  26.2          Unknown   \n",
       "\n",
       "      stroke  \n",
       "5105       0  \n",
       "5106       0  \n",
       "5107       0  \n",
       "5108       0  \n",
       "5109       0  "
      ]
     },
     "execution_count": 148,
     "metadata": {},
     "output_type": "execute_result"
    }
   ],
   "source": [
    "#View the last five rows from the data frame\n",
    "dataframe.tail()"
   ]
  },
  {
   "cell_type": "code",
   "execution_count": 149,
   "id": "270ea216",
   "metadata": {},
   "outputs": [
    {
     "name": "stdout",
     "output_type": "stream",
     "text": [
      "No of tuples:  5110 | No of features:  12\n"
     ]
    }
   ],
   "source": [
    "#Get the data set tuple and features\n",
    "print('No of tuples: ', dataframe.shape[0],'| No of features: ',dataframe.shape[1])"
   ]
  },
  {
   "cell_type": "code",
   "execution_count": 150,
   "id": "a6b8b968",
   "metadata": {},
   "outputs": [
    {
     "data": {
      "text/html": [
       "<div>\n",
       "<style scoped>\n",
       "    .dataframe tbody tr th:only-of-type {\n",
       "        vertical-align: middle;\n",
       "    }\n",
       "\n",
       "    .dataframe tbody tr th {\n",
       "        vertical-align: top;\n",
       "    }\n",
       "\n",
       "    .dataframe thead th {\n",
       "        text-align: right;\n",
       "    }\n",
       "</style>\n",
       "<table border=\"1\" class=\"dataframe\">\n",
       "  <thead>\n",
       "    <tr style=\"text-align: right;\">\n",
       "      <th></th>\n",
       "      <th>id</th>\n",
       "      <th>age</th>\n",
       "      <th>hypertension</th>\n",
       "      <th>heart_disease</th>\n",
       "      <th>avg_glucose_level</th>\n",
       "      <th>bmi</th>\n",
       "      <th>stroke</th>\n",
       "    </tr>\n",
       "  </thead>\n",
       "  <tbody>\n",
       "    <tr>\n",
       "      <th>count</th>\n",
       "      <td>5110.000000</td>\n",
       "      <td>5110.000000</td>\n",
       "      <td>5110.000000</td>\n",
       "      <td>5110.000000</td>\n",
       "      <td>5110.000000</td>\n",
       "      <td>4909.000000</td>\n",
       "      <td>5110.000000</td>\n",
       "    </tr>\n",
       "    <tr>\n",
       "      <th>mean</th>\n",
       "      <td>36517.829354</td>\n",
       "      <td>43.226614</td>\n",
       "      <td>0.097456</td>\n",
       "      <td>0.054012</td>\n",
       "      <td>106.147677</td>\n",
       "      <td>28.893237</td>\n",
       "      <td>0.048728</td>\n",
       "    </tr>\n",
       "    <tr>\n",
       "      <th>std</th>\n",
       "      <td>21161.721625</td>\n",
       "      <td>22.612647</td>\n",
       "      <td>0.296607</td>\n",
       "      <td>0.226063</td>\n",
       "      <td>45.283560</td>\n",
       "      <td>7.854067</td>\n",
       "      <td>0.215320</td>\n",
       "    </tr>\n",
       "    <tr>\n",
       "      <th>min</th>\n",
       "      <td>67.000000</td>\n",
       "      <td>0.080000</td>\n",
       "      <td>0.000000</td>\n",
       "      <td>0.000000</td>\n",
       "      <td>55.120000</td>\n",
       "      <td>10.300000</td>\n",
       "      <td>0.000000</td>\n",
       "    </tr>\n",
       "    <tr>\n",
       "      <th>25%</th>\n",
       "      <td>17741.250000</td>\n",
       "      <td>25.000000</td>\n",
       "      <td>0.000000</td>\n",
       "      <td>0.000000</td>\n",
       "      <td>77.245000</td>\n",
       "      <td>23.500000</td>\n",
       "      <td>0.000000</td>\n",
       "    </tr>\n",
       "    <tr>\n",
       "      <th>50%</th>\n",
       "      <td>36932.000000</td>\n",
       "      <td>45.000000</td>\n",
       "      <td>0.000000</td>\n",
       "      <td>0.000000</td>\n",
       "      <td>91.885000</td>\n",
       "      <td>28.100000</td>\n",
       "      <td>0.000000</td>\n",
       "    </tr>\n",
       "    <tr>\n",
       "      <th>75%</th>\n",
       "      <td>54682.000000</td>\n",
       "      <td>61.000000</td>\n",
       "      <td>0.000000</td>\n",
       "      <td>0.000000</td>\n",
       "      <td>114.090000</td>\n",
       "      <td>33.100000</td>\n",
       "      <td>0.000000</td>\n",
       "    </tr>\n",
       "    <tr>\n",
       "      <th>max</th>\n",
       "      <td>72940.000000</td>\n",
       "      <td>82.000000</td>\n",
       "      <td>1.000000</td>\n",
       "      <td>1.000000</td>\n",
       "      <td>271.740000</td>\n",
       "      <td>97.600000</td>\n",
       "      <td>1.000000</td>\n",
       "    </tr>\n",
       "  </tbody>\n",
       "</table>\n",
       "</div>"
      ],
      "text/plain": [
       "                 id          age  hypertension  heart_disease  \\\n",
       "count   5110.000000  5110.000000   5110.000000    5110.000000   \n",
       "mean   36517.829354    43.226614      0.097456       0.054012   \n",
       "std    21161.721625    22.612647      0.296607       0.226063   \n",
       "min       67.000000     0.080000      0.000000       0.000000   \n",
       "25%    17741.250000    25.000000      0.000000       0.000000   \n",
       "50%    36932.000000    45.000000      0.000000       0.000000   \n",
       "75%    54682.000000    61.000000      0.000000       0.000000   \n",
       "max    72940.000000    82.000000      1.000000       1.000000   \n",
       "\n",
       "       avg_glucose_level          bmi       stroke  \n",
       "count        5110.000000  4909.000000  5110.000000  \n",
       "mean          106.147677    28.893237     0.048728  \n",
       "std            45.283560     7.854067     0.215320  \n",
       "min            55.120000    10.300000     0.000000  \n",
       "25%            77.245000    23.500000     0.000000  \n",
       "50%            91.885000    28.100000     0.000000  \n",
       "75%           114.090000    33.100000     0.000000  \n",
       "max           271.740000    97.600000     1.000000  "
      ]
     },
     "execution_count": 150,
     "metadata": {},
     "output_type": "execute_result"
    }
   ],
   "source": [
    "#Viewng values Mean, Median, Minimum , Maximum\n",
    "dataframe.describe()"
   ]
  },
  {
   "cell_type": "code",
   "execution_count": 151,
   "id": "d40a1f9e",
   "metadata": {},
   "outputs": [
    {
     "data": {
      "text/html": [
       "<div>\n",
       "<style scoped>\n",
       "    .dataframe tbody tr th:only-of-type {\n",
       "        vertical-align: middle;\n",
       "    }\n",
       "\n",
       "    .dataframe tbody tr th {\n",
       "        vertical-align: top;\n",
       "    }\n",
       "\n",
       "    .dataframe thead th {\n",
       "        text-align: right;\n",
       "    }\n",
       "</style>\n",
       "<table border=\"1\" class=\"dataframe\">\n",
       "  <thead>\n",
       "    <tr style=\"text-align: right;\">\n",
       "      <th></th>\n",
       "      <th>gender</th>\n",
       "      <th>ever_married</th>\n",
       "      <th>work_type</th>\n",
       "      <th>Residence_type</th>\n",
       "      <th>smoking_status</th>\n",
       "    </tr>\n",
       "  </thead>\n",
       "  <tbody>\n",
       "    <tr>\n",
       "      <th>count</th>\n",
       "      <td>5110</td>\n",
       "      <td>5110</td>\n",
       "      <td>5110</td>\n",
       "      <td>5110</td>\n",
       "      <td>5110</td>\n",
       "    </tr>\n",
       "    <tr>\n",
       "      <th>unique</th>\n",
       "      <td>3</td>\n",
       "      <td>2</td>\n",
       "      <td>5</td>\n",
       "      <td>2</td>\n",
       "      <td>4</td>\n",
       "    </tr>\n",
       "    <tr>\n",
       "      <th>top</th>\n",
       "      <td>Female</td>\n",
       "      <td>Yes</td>\n",
       "      <td>Private</td>\n",
       "      <td>Urban</td>\n",
       "      <td>never smoked</td>\n",
       "    </tr>\n",
       "    <tr>\n",
       "      <th>freq</th>\n",
       "      <td>2994</td>\n",
       "      <td>3353</td>\n",
       "      <td>2925</td>\n",
       "      <td>2596</td>\n",
       "      <td>1892</td>\n",
       "    </tr>\n",
       "  </tbody>\n",
       "</table>\n",
       "</div>"
      ],
      "text/plain": [
       "        gender ever_married work_type Residence_type smoking_status\n",
       "count     5110         5110      5110           5110           5110\n",
       "unique       3            2         5              2              4\n",
       "top     Female          Yes   Private          Urban   never smoked\n",
       "freq      2994         3353      2925           2596           1892"
      ]
     },
     "execution_count": 151,
     "metadata": {},
     "output_type": "execute_result"
    }
   ],
   "source": [
    "dataframe.describe(include=[\"O\"])"
   ]
  },
  {
   "cell_type": "code",
   "execution_count": 152,
   "id": "1d1df483",
   "metadata": {},
   "outputs": [
    {
     "data": {
      "text/plain": [
       "array([[<Axes: title={'center': 'age'}>,\n",
       "        <Axes: title={'center': 'hypertension'}>],\n",
       "       [<Axes: title={'center': 'heart_disease'}>,\n",
       "        <Axes: title={'center': 'avg_glucose_level'}>],\n",
       "       [<Axes: title={'center': 'stroke'}>,\n",
       "        <Axes: title={'center': 'stroke'}>]], dtype=object)"
      ]
     },
     "execution_count": 152,
     "metadata": {},
     "output_type": "execute_result"
    },
    {
     "data": {
      "image/png": "[encoded data removed]",
      "text/plain": [
       "<Figure size 1000x1000 with 6 Axes>"
      ]
     },
     "metadata": {},
     "output_type": "display_data"
    }
   ],
   "source": [
    "#Visualizing the numerical features of the dataset using histograms to analyze the distribution of those features in the dataset\n",
    "\n",
    "rcParams['figure.figsize'] = 10, 10\n",
    "dataframe[['age', 'hypertension', 'heart_disease', 'avg_glucose_level', 'stroke', 'stroke']].hist()"
   ]
  },
  {
   "cell_type": "code",
   "execution_count": 153,
   "id": "e0e209ab",
   "metadata": {},
   "outputs": [
    {
     "data": {
      "text/html": [
       "<div>\n",
       "<style scoped>\n",
       "    .dataframe tbody tr th:only-of-type {\n",
       "        vertical-align: middle;\n",
       "    }\n",
       "\n",
       "    .dataframe tbody tr th {\n",
       "        vertical-align: top;\n",
       "    }\n",
       "\n",
       "    .dataframe thead th {\n",
       "        text-align: right;\n",
       "    }\n",
       "</style>\n",
       "<table border=\"1\" class=\"dataframe\">\n",
       "  <thead>\n",
       "    <tr style=\"text-align: right;\">\n",
       "      <th></th>\n",
       "      <th>id</th>\n",
       "      <th>gender</th>\n",
       "      <th>age</th>\n",
       "      <th>hypertension</th>\n",
       "      <th>heart_disease</th>\n",
       "      <th>ever_married</th>\n",
       "      <th>work_type</th>\n",
       "      <th>Residence_type</th>\n",
       "      <th>avg_glucose_level</th>\n",
       "      <th>bmi</th>\n",
       "      <th>smoking_status</th>\n",
       "      <th>stroke</th>\n",
       "    </tr>\n",
       "  </thead>\n",
       "  <tbody>\n",
       "    <tr>\n",
       "      <th>0</th>\n",
       "      <td>9046</td>\n",
       "      <td>Male</td>\n",
       "      <td>67.0</td>\n",
       "      <td>0</td>\n",
       "      <td>1</td>\n",
       "      <td>Yes</td>\n",
       "      <td>Private</td>\n",
       "      <td>Urban</td>\n",
       "      <td>228.69</td>\n",
       "      <td>36.6</td>\n",
       "      <td>formerly smoked</td>\n",
       "      <td>1</td>\n",
       "    </tr>\n",
       "    <tr>\n",
       "      <th>1</th>\n",
       "      <td>51676</td>\n",
       "      <td>Female</td>\n",
       "      <td>61.0</td>\n",
       "      <td>0</td>\n",
       "      <td>0</td>\n",
       "      <td>Yes</td>\n",
       "      <td>Self-employed</td>\n",
       "      <td>Rural</td>\n",
       "      <td>202.21</td>\n",
       "      <td>NaN</td>\n",
       "      <td>never smoked</td>\n",
       "      <td>1</td>\n",
       "    </tr>\n",
       "    <tr>\n",
       "      <th>2</th>\n",
       "      <td>31112</td>\n",
       "      <td>Male</td>\n",
       "      <td>80.0</td>\n",
       "      <td>0</td>\n",
       "      <td>1</td>\n",
       "      <td>Yes</td>\n",
       "      <td>Private</td>\n",
       "      <td>Rural</td>\n",
       "      <td>105.92</td>\n",
       "      <td>32.5</td>\n",
       "      <td>never smoked</td>\n",
       "      <td>1</td>\n",
       "    </tr>\n",
       "    <tr>\n",
       "      <th>3</th>\n",
       "      <td>60182</td>\n",
       "      <td>Female</td>\n",
       "      <td>49.0</td>\n",
       "      <td>0</td>\n",
       "      <td>0</td>\n",
       "      <td>Yes</td>\n",
       "      <td>Private</td>\n",
       "      <td>Urban</td>\n",
       "      <td>171.23</td>\n",
       "      <td>34.4</td>\n",
       "      <td>smokes</td>\n",
       "      <td>1</td>\n",
       "    </tr>\n",
       "    <tr>\n",
       "      <th>4</th>\n",
       "      <td>1665</td>\n",
       "      <td>Female</td>\n",
       "      <td>79.0</td>\n",
       "      <td>1</td>\n",
       "      <td>0</td>\n",
       "      <td>Yes</td>\n",
       "      <td>Self-employed</td>\n",
       "      <td>Rural</td>\n",
       "      <td>174.12</td>\n",
       "      <td>24.0</td>\n",
       "      <td>never smoked</td>\n",
       "      <td>1</td>\n",
       "    </tr>\n",
       "    <tr>\n",
       "      <th>...</th>\n",
       "      <td>...</td>\n",
       "      <td>...</td>\n",
       "      <td>...</td>\n",
       "      <td>...</td>\n",
       "      <td>...</td>\n",
       "      <td>...</td>\n",
       "      <td>...</td>\n",
       "      <td>...</td>\n",
       "      <td>...</td>\n",
       "      <td>...</td>\n",
       "      <td>...</td>\n",
       "      <td>...</td>\n",
       "    </tr>\n",
       "    <tr>\n",
       "      <th>5105</th>\n",
       "      <td>18234</td>\n",
       "      <td>Female</td>\n",
       "      <td>80.0</td>\n",
       "      <td>1</td>\n",
       "      <td>0</td>\n",
       "      <td>Yes</td>\n",
       "      <td>Private</td>\n",
       "      <td>Urban</td>\n",
       "      <td>83.75</td>\n",
       "      <td>NaN</td>\n",
       "      <td>never smoked</td>\n",
       "      <td>0</td>\n",
       "    </tr>\n",
       "    <tr>\n",
       "      <th>5106</th>\n",
       "      <td>44873</td>\n",
       "      <td>Female</td>\n",
       "      <td>81.0</td>\n",
       "      <td>0</td>\n",
       "      <td>0</td>\n",
       "      <td>Yes</td>\n",
       "      <td>Self-employed</td>\n",
       "      <td>Urban</td>\n",
       "      <td>125.20</td>\n",
       "      <td>40.0</td>\n",
       "      <td>never smoked</td>\n",
       "      <td>0</td>\n",
       "    </tr>\n",
       "    <tr>\n",
       "      <th>5107</th>\n",
       "      <td>19723</td>\n",
       "      <td>Female</td>\n",
       "      <td>35.0</td>\n",
       "      <td>0</td>\n",
       "      <td>0</td>\n",
       "      <td>Yes</td>\n",
       "      <td>Self-employed</td>\n",
       "      <td>Rural</td>\n",
       "      <td>82.99</td>\n",
       "      <td>30.6</td>\n",
       "      <td>never smoked</td>\n",
       "      <td>0</td>\n",
       "    </tr>\n",
       "    <tr>\n",
       "      <th>5108</th>\n",
       "      <td>37544</td>\n",
       "      <td>Male</td>\n",
       "      <td>51.0</td>\n",
       "      <td>0</td>\n",
       "      <td>0</td>\n",
       "      <td>Yes</td>\n",
       "      <td>Private</td>\n",
       "      <td>Rural</td>\n",
       "      <td>166.29</td>\n",
       "      <td>25.6</td>\n",
       "      <td>formerly smoked</td>\n",
       "      <td>0</td>\n",
       "    </tr>\n",
       "    <tr>\n",
       "      <th>5109</th>\n",
       "      <td>44679</td>\n",
       "      <td>Female</td>\n",
       "      <td>44.0</td>\n",
       "      <td>0</td>\n",
       "      <td>0</td>\n",
       "      <td>Yes</td>\n",
       "      <td>Govt_job</td>\n",
       "      <td>Urban</td>\n",
       "      <td>85.28</td>\n",
       "      <td>26.2</td>\n",
       "      <td>Unknown</td>\n",
       "      <td>0</td>\n",
       "    </tr>\n",
       "  </tbody>\n",
       "</table>\n",
       "<p>5110 rows × 12 columns</p>\n",
       "</div>"
      ],
      "text/plain": [
       "         id  gender   age  hypertension  heart_disease ever_married  \\\n",
       "0      9046    Male  67.0             0              1          Yes   \n",
       "1     51676  Female  61.0             0              0          Yes   \n",
       "2     31112    Male  80.0             0              1          Yes   \n",
       "3     60182  Female  49.0             0              0          Yes   \n",
       "4      1665  Female  79.0             1              0          Yes   \n",
       "...     ...     ...   ...           ...            ...          ...   \n",
       "5105  18234  Female  80.0             1              0          Yes   \n",
       "5106  44873  Female  81.0             0              0          Yes   \n",
       "5107  19723  Female  35.0             0              0          Yes   \n",
       "5108  37544    Male  51.0             0              0          Yes   \n",
       "5109  44679  Female  44.0             0              0          Yes   \n",
       "\n",
       "          work_type Residence_type  avg_glucose_level   bmi   smoking_status  \\\n",
       "0           Private          Urban             228.69  36.6  formerly smoked   \n",
       "1     Self-employed          Rural             202.21   NaN     never smoked   \n",
       "2           Private          Rural             105.92  32.5     never smoked   \n",
       "3           Private          Urban             171.23  34.4           smokes   \n",
       "4     Self-employed          Rural             174.12  24.0     never smoked   \n",
       "...             ...            ...                ...   ...              ...   \n",
       "5105        Private          Urban              83.75   NaN     never smoked   \n",
       "5106  Self-employed          Urban             125.20  40.0     never smoked   \n",
       "5107  Self-employed          Rural              82.99  30.6     never smoked   \n",
       "5108        Private          Rural             166.29  25.6  formerly smoked   \n",
       "5109       Govt_job          Urban              85.28  26.2          Unknown   \n",
       "\n",
       "      stroke  \n",
       "0          1  \n",
       "1          1  \n",
       "2          1  \n",
       "3          1  \n",
       "4          1  \n",
       "...      ...  \n",
       "5105       0  \n",
       "5106       0  \n",
       "5107       0  \n",
       "5108       0  \n",
       "5109       0  \n",
       "\n",
       "[5110 rows x 12 columns]"
      ]
     },
     "execution_count": 153,
     "metadata": {},
     "output_type": "execute_result"
    }
   ],
   "source": [
    "#Replacing ? in dataset to the null values\n",
    "dataframe.replace('',npy.nan )"
   ]
  },
  {
   "cell_type": "code",
   "execution_count": 154,
   "id": "5b7aa919",
   "metadata": {},
   "outputs": [
    {
     "data": {
      "text/html": [
       "<div>\n",
       "<style scoped>\n",
       "    .dataframe tbody tr th:only-of-type {\n",
       "        vertical-align: middle;\n",
       "    }\n",
       "\n",
       "    .dataframe tbody tr th {\n",
       "        vertical-align: top;\n",
       "    }\n",
       "\n",
       "    .dataframe thead th {\n",
       "        text-align: right;\n",
       "    }\n",
       "</style>\n",
       "<table border=\"1\" class=\"dataframe\">\n",
       "  <thead>\n",
       "    <tr style=\"text-align: right;\">\n",
       "      <th></th>\n",
       "      <th>id</th>\n",
       "      <th>age</th>\n",
       "      <th>hypertension</th>\n",
       "      <th>heart_disease</th>\n",
       "      <th>avg_glucose_level</th>\n",
       "      <th>bmi</th>\n",
       "      <th>stroke</th>\n",
       "    </tr>\n",
       "  </thead>\n",
       "  <tbody>\n",
       "    <tr>\n",
       "      <th>id</th>\n",
       "      <td>1.000000</td>\n",
       "      <td>0.003538</td>\n",
       "      <td>0.003550</td>\n",
       "      <td>-0.001296</td>\n",
       "      <td>0.001092</td>\n",
       "      <td>0.003084</td>\n",
       "      <td>0.006388</td>\n",
       "    </tr>\n",
       "    <tr>\n",
       "      <th>age</th>\n",
       "      <td>0.003538</td>\n",
       "      <td>1.000000</td>\n",
       "      <td>0.276398</td>\n",
       "      <td>0.263796</td>\n",
       "      <td>0.238171</td>\n",
       "      <td>0.333398</td>\n",
       "      <td>0.245257</td>\n",
       "    </tr>\n",
       "    <tr>\n",
       "      <th>hypertension</th>\n",
       "      <td>0.003550</td>\n",
       "      <td>0.276398</td>\n",
       "      <td>1.000000</td>\n",
       "      <td>0.108306</td>\n",
       "      <td>0.174474</td>\n",
       "      <td>0.167811</td>\n",
       "      <td>0.127904</td>\n",
       "    </tr>\n",
       "    <tr>\n",
       "      <th>heart_disease</th>\n",
       "      <td>-0.001296</td>\n",
       "      <td>0.263796</td>\n",
       "      <td>0.108306</td>\n",
       "      <td>1.000000</td>\n",
       "      <td>0.161857</td>\n",
       "      <td>0.041357</td>\n",
       "      <td>0.134914</td>\n",
       "    </tr>\n",
       "    <tr>\n",
       "      <th>avg_glucose_level</th>\n",
       "      <td>0.001092</td>\n",
       "      <td>0.238171</td>\n",
       "      <td>0.174474</td>\n",
       "      <td>0.161857</td>\n",
       "      <td>1.000000</td>\n",
       "      <td>0.175502</td>\n",
       "      <td>0.131945</td>\n",
       "    </tr>\n",
       "    <tr>\n",
       "      <th>bmi</th>\n",
       "      <td>0.003084</td>\n",
       "      <td>0.333398</td>\n",
       "      <td>0.167811</td>\n",
       "      <td>0.041357</td>\n",
       "      <td>0.175502</td>\n",
       "      <td>1.000000</td>\n",
       "      <td>0.042374</td>\n",
       "    </tr>\n",
       "    <tr>\n",
       "      <th>stroke</th>\n",
       "      <td>0.006388</td>\n",
       "      <td>0.245257</td>\n",
       "      <td>0.127904</td>\n",
       "      <td>0.134914</td>\n",
       "      <td>0.131945</td>\n",
       "      <td>0.042374</td>\n",
       "      <td>1.000000</td>\n",
       "    </tr>\n",
       "  </tbody>\n",
       "</table>\n",
       "</div>"
      ],
      "text/plain": [
       "                         id       age  hypertension  heart_disease  \\\n",
       "id                 1.000000  0.003538      0.003550      -0.001296   \n",
       "age                0.003538  1.000000      0.276398       0.263796   \n",
       "hypertension       0.003550  0.276398      1.000000       0.108306   \n",
       "heart_disease     -0.001296  0.263796      0.108306       1.000000   \n",
       "avg_glucose_level  0.001092  0.238171      0.174474       0.161857   \n",
       "bmi                0.003084  0.333398      0.167811       0.041357   \n",
       "stroke             0.006388  0.245257      0.127904       0.134914   \n",
       "\n",
       "                   avg_glucose_level       bmi    stroke  \n",
       "id                          0.001092  0.003084  0.006388  \n",
       "age                         0.238171  0.333398  0.245257  \n",
       "hypertension                0.174474  0.167811  0.127904  \n",
       "heart_disease               0.161857  0.041357  0.134914  \n",
       "avg_glucose_level           1.000000  0.175502  0.131945  \n",
       "bmi                         0.175502  1.000000  0.042374  \n",
       "stroke                      0.131945  0.042374  1.000000  "
      ]
     },
     "execution_count": 154,
     "metadata": {},
     "output_type": "execute_result"
    }
   ],
   "source": [
    "#view correlation data set\n",
    "dataframe.corr()"
   ]
  },
  {
   "cell_type": "code",
   "execution_count": 155,
   "id": "9386a67c",
   "metadata": {},
   "outputs": [
    {
     "data": {
      "image/png": "[encoded data removed]",
      "text/plain": [
       "<Figure size 1000x1000 with 2 Axes>"
      ]
     },
     "metadata": {},
     "output_type": "display_data"
    }
   ],
   "source": [
    "#Ploting the correlation between the output(stroke) and individual features\n",
    "matplt.matshow(dataframe.corr())\n",
    "matplt.colorbar()\n",
    "matplt.xticks(npy.arange(len(dataframe.corr().columns)), dataframe.corr().columns.values, rotation = 50) \n",
    "matplt.yticks(npy.arange(len(dataframe.corr().columns)), dataframe.corr().columns.values) \n",
    "for (i, j), corr in npy.ndenumerate(dataframe.corr()):\n",
    "    matplt.text(j, i, '{:0.1f}'.format(corr), ha='center', va='center', color='white', fontsize=12)\n"
   ]
  },
  {
   "cell_type": "markdown",
   "id": "8278aaa5",
   "metadata": {},
   "source": [
    "## Preprocess the data"
   ]
  },
  {
   "cell_type": "markdown",
   "id": "d31478a6",
   "metadata": {},
   "source": [
    "#### Dropping unnecessary data"
   ]
  },
  {
   "cell_type": "code",
   "execution_count": 156,
   "id": "c2f0ab8e",
   "metadata": {},
   "outputs": [],
   "source": [
    "#So it has 0 correlation, id column is unneccesary.so it can be dropped\n",
    "dataframe.drop([\"id\"],axis=1,inplace=True)"
   ]
  },
  {
   "cell_type": "code",
   "execution_count": 157,
   "id": "84db5291",
   "metadata": {},
   "outputs": [
    {
     "data": {
      "text/plain": [
       "(5110, 11)"
      ]
     },
     "execution_count": 157,
     "metadata": {},
     "output_type": "execute_result"
    }
   ],
   "source": [
    "#Get the shape of the dataset\n",
    "dataframe.shape"
   ]
  },
  {
   "cell_type": "markdown",
   "id": "fdaa7ad2",
   "metadata": {},
   "source": [
    "#### Reviewing and removing or filling in data points with incomplete information"
   ]
  },
  {
   "cell_type": "code",
   "execution_count": 158,
   "id": "86d91589",
   "metadata": {},
   "outputs": [
    {
     "data": {
      "text/html": [
       "<div>\n",
       "<style scoped>\n",
       "    .dataframe tbody tr th:only-of-type {\n",
       "        vertical-align: middle;\n",
       "    }\n",
       "\n",
       "    .dataframe tbody tr th {\n",
       "        vertical-align: top;\n",
       "    }\n",
       "\n",
       "    .dataframe thead th {\n",
       "        text-align: right;\n",
       "    }\n",
       "</style>\n",
       "<table border=\"1\" class=\"dataframe\">\n",
       "  <thead>\n",
       "    <tr style=\"text-align: right;\">\n",
       "      <th></th>\n",
       "      <th>Total Missing Value</th>\n",
       "      <th>%</th>\n",
       "    </tr>\n",
       "  </thead>\n",
       "  <tbody>\n",
       "    <tr>\n",
       "      <th>bmi</th>\n",
       "      <td>201</td>\n",
       "      <td>3.9</td>\n",
       "    </tr>\n",
       "    <tr>\n",
       "      <th>gender</th>\n",
       "      <td>0</td>\n",
       "      <td>0.0</td>\n",
       "    </tr>\n",
       "    <tr>\n",
       "      <th>age</th>\n",
       "      <td>0</td>\n",
       "      <td>0.0</td>\n",
       "    </tr>\n",
       "    <tr>\n",
       "      <th>hypertension</th>\n",
       "      <td>0</td>\n",
       "      <td>0.0</td>\n",
       "    </tr>\n",
       "    <tr>\n",
       "      <th>heart_disease</th>\n",
       "      <td>0</td>\n",
       "      <td>0.0</td>\n",
       "    </tr>\n",
       "    <tr>\n",
       "      <th>ever_married</th>\n",
       "      <td>0</td>\n",
       "      <td>0.0</td>\n",
       "    </tr>\n",
       "    <tr>\n",
       "      <th>work_type</th>\n",
       "      <td>0</td>\n",
       "      <td>0.0</td>\n",
       "    </tr>\n",
       "    <tr>\n",
       "      <th>Residence_type</th>\n",
       "      <td>0</td>\n",
       "      <td>0.0</td>\n",
       "    </tr>\n",
       "    <tr>\n",
       "      <th>avg_glucose_level</th>\n",
       "      <td>0</td>\n",
       "      <td>0.0</td>\n",
       "    </tr>\n",
       "    <tr>\n",
       "      <th>smoking_status</th>\n",
       "      <td>0</td>\n",
       "      <td>0.0</td>\n",
       "    </tr>\n",
       "    <tr>\n",
       "      <th>stroke</th>\n",
       "      <td>0</td>\n",
       "      <td>0.0</td>\n",
       "    </tr>\n",
       "  </tbody>\n",
       "</table>\n",
       "</div>"
      ],
      "text/plain": [
       "                   Total Missing Value    %\n",
       "bmi                                201  3.9\n",
       "gender                               0  0.0\n",
       "age                                  0  0.0\n",
       "hypertension                         0  0.0\n",
       "heart_disease                        0  0.0\n",
       "ever_married                         0  0.0\n",
       "work_type                            0  0.0\n",
       "Residence_type                       0  0.0\n",
       "avg_glucose_level                    0  0.0\n",
       "smoking_status                       0  0.0\n",
       "stroke                               0  0.0"
      ]
     },
     "execution_count": 158,
     "metadata": {},
     "output_type": "execute_result"
    }
   ],
   "source": [
    "#Found what is the presentage of data is missing from the dataframe\n",
    "\n",
    "total_missing_value = dataframe.isnull().sum().sort_values(ascending=False)\n",
    "present_1 = dataframe.isnull().sum()/dataframe.isnull().count()*100\n",
    "present_2 = (round(present_1, 1)).sort_values(ascending=False)\n",
    "missing_value = pds.concat([total_missing_value, present_2], axis=1, keys=['Total Missing Value', '%'])\n",
    "missing_value.head(15)"
   ]
  },
  {
   "cell_type": "code",
   "execution_count": 159,
   "id": "b96989b4",
   "metadata": {},
   "outputs": [
    {
     "data": {
      "text/plain": [
       "count    4909.000000\n",
       "mean       28.893237\n",
       "std         7.854067\n",
       "min        10.300000\n",
       "25%        23.500000\n",
       "50%        28.100000\n",
       "75%        33.100000\n",
       "max        97.600000\n",
       "Name: bmi, dtype: float64"
      ]
     },
     "execution_count": 159,
     "metadata": {},
     "output_type": "execute_result"
    }
   ],
   "source": [
    "#Since a very small amount of data is missing, we can replace the null values with the mean of bmi features\n",
    "dataframe['bmi'].describe()"
   ]
  },
  {
   "cell_type": "code",
   "execution_count": 160,
   "id": "cc94f810",
   "metadata": {},
   "outputs": [],
   "source": [
    "#Applying Only on variables with NaN values\n",
    "for col_mean in dataframe.columns[dataframe.isnull().any(axis=0)]:\n",
    "    dataframe[col_mean].fillna(dataframe[col_mean].mean(),inplace=True)"
   ]
  },
  {
   "cell_type": "code",
   "execution_count": 161,
   "id": "d5922911",
   "metadata": {},
   "outputs": [
    {
     "data": {
      "text/plain": [
       "gender               0\n",
       "age                  0\n",
       "hypertension         0\n",
       "heart_disease        0\n",
       "ever_married         0\n",
       "work_type            0\n",
       "Residence_type       0\n",
       "avg_glucose_level    0\n",
       "bmi                  0\n",
       "smoking_status       0\n",
       "stroke               0\n",
       "dtype: int64"
      ]
     },
     "execution_count": 161,
     "metadata": {},
     "output_type": "execute_result"
    }
   ],
   "source": [
    "dataframe.isnull().sum()"
   ]
  },
  {
   "cell_type": "markdown",
   "id": "06390f19",
   "metadata": {},
   "source": [
    "#### Outlier Removals"
   ]
  },
  {
   "cell_type": "code",
   "execution_count": 162,
   "id": "42b0967b",
   "metadata": {},
   "outputs": [
    {
     "data": {
      "image/png": "[encoded data removed]",
      "text/plain": [
       "<Figure size 1000x600 with 2 Axes>"
      ]
     },
     "metadata": {},
     "output_type": "display_data"
    }
   ],
   "source": [
    "# Select age and bmi for the plot\n",
    "colomns = ['age','bmi']\n",
    "\n",
    "# Instantiate figure and axes for as many subplots as the columns in question\n",
    "figure, ax = matplt.subplots(ncols=len(colomns), figsize=(5 * len(colomns),6), sharex = True)\n",
    "\n",
    "# Draw a Boxen Plot for each column in question\n",
    "for r in range(len(colomns)):\n",
    "  (sns.boxenplot(y=dataframe[colomns[r]],data=dataframe, showfliers=True,ax=ax[r])).set(xlabel=colomns[r])\n"
   ]
  },
  {
   "cell_type": "code",
   "execution_count": 163,
   "id": "64062cb7",
   "metadata": {},
   "outputs": [
    {
     "data": {
      "text/html": [
       "<div>\n",
       "<style scoped>\n",
       "    .dataframe tbody tr th:only-of-type {\n",
       "        vertical-align: middle;\n",
       "    }\n",
       "\n",
       "    .dataframe tbody tr th {\n",
       "        vertical-align: top;\n",
       "    }\n",
       "\n",
       "    .dataframe thead th {\n",
       "        text-align: right;\n",
       "    }\n",
       "</style>\n",
       "<table border=\"1\" class=\"dataframe\">\n",
       "  <thead>\n",
       "    <tr style=\"text-align: right;\">\n",
       "      <th></th>\n",
       "      <th>gender</th>\n",
       "      <th>age</th>\n",
       "      <th>hypertension</th>\n",
       "      <th>heart_disease</th>\n",
       "      <th>ever_married</th>\n",
       "      <th>work_type</th>\n",
       "      <th>Residence_type</th>\n",
       "      <th>avg_glucose_level</th>\n",
       "      <th>bmi</th>\n",
       "      <th>smoking_status</th>\n",
       "      <th>stroke</th>\n",
       "    </tr>\n",
       "  </thead>\n",
       "  <tbody>\n",
       "    <tr>\n",
       "      <th>544</th>\n",
       "      <td>Male</td>\n",
       "      <td>42.0</td>\n",
       "      <td>0</td>\n",
       "      <td>0</td>\n",
       "      <td>Yes</td>\n",
       "      <td>Private</td>\n",
       "      <td>Rural</td>\n",
       "      <td>210.48</td>\n",
       "      <td>71.9</td>\n",
       "      <td>never smoked</td>\n",
       "      <td>0</td>\n",
       "    </tr>\n",
       "    <tr>\n",
       "      <th>928</th>\n",
       "      <td>Female</td>\n",
       "      <td>23.0</td>\n",
       "      <td>1</td>\n",
       "      <td>0</td>\n",
       "      <td>No</td>\n",
       "      <td>Private</td>\n",
       "      <td>Urban</td>\n",
       "      <td>70.03</td>\n",
       "      <td>78.0</td>\n",
       "      <td>smokes</td>\n",
       "      <td>0</td>\n",
       "    </tr>\n",
       "    <tr>\n",
       "      <th>2128</th>\n",
       "      <td>Male</td>\n",
       "      <td>17.0</td>\n",
       "      <td>1</td>\n",
       "      <td>0</td>\n",
       "      <td>No</td>\n",
       "      <td>Private</td>\n",
       "      <td>Rural</td>\n",
       "      <td>61.67</td>\n",
       "      <td>97.6</td>\n",
       "      <td>Unknown</td>\n",
       "      <td>0</td>\n",
       "    </tr>\n",
       "    <tr>\n",
       "      <th>4209</th>\n",
       "      <td>Male</td>\n",
       "      <td>38.0</td>\n",
       "      <td>1</td>\n",
       "      <td>0</td>\n",
       "      <td>Yes</td>\n",
       "      <td>Private</td>\n",
       "      <td>Rural</td>\n",
       "      <td>56.90</td>\n",
       "      <td>92.0</td>\n",
       "      <td>never smoked</td>\n",
       "      <td>0</td>\n",
       "    </tr>\n",
       "  </tbody>\n",
       "</table>\n",
       "</div>"
      ],
      "text/plain": [
       "      gender   age  hypertension  heart_disease ever_married work_type  \\\n",
       "544     Male  42.0             0              0          Yes   Private   \n",
       "928   Female  23.0             1              0           No   Private   \n",
       "2128    Male  17.0             1              0           No   Private   \n",
       "4209    Male  38.0             1              0          Yes   Private   \n",
       "\n",
       "     Residence_type  avg_glucose_level   bmi smoking_status  stroke  \n",
       "544           Rural             210.48  71.9   never smoked       0  \n",
       "928           Urban              70.03  78.0         smokes       0  \n",
       "2128          Rural              61.67  97.6        Unknown       0  \n",
       "4209          Rural              56.90  92.0   never smoked       0  "
      ]
     },
     "metadata": {},
     "output_type": "display_data"
    }
   ],
   "source": [
    "# Display rows with 'bmi' > 70\n",
    "display(dataframe[dataframe['bmi'] > 70])\n",
    "\n",
    "# Drop rows\n",
    "dataframe.drop(dataframe.index[dataframe['bmi'] > 70], inplace=True)\n",
    "\n",
    "# Reset index of dataframe\n",
    "dataframe = dataframe.reset_index(drop = True)"
   ]
  },
  {
   "cell_type": "markdown",
   "id": "016189e8",
   "metadata": {},
   "source": [
    "#### For Encoding Categorical data"
   ]
  },
  {
   "cell_type": "code",
   "execution_count": 164,
   "id": "57bbdcbd",
   "metadata": {},
   "outputs": [
    {
     "data": {
      "text/plain": [
       "gender                object\n",
       "age                  float64\n",
       "hypertension           int64\n",
       "heart_disease          int64\n",
       "ever_married          object\n",
       "work_type             object\n",
       "Residence_type        object\n",
       "avg_glucose_level    float64\n",
       "bmi                  float64\n",
       "smoking_status        object\n",
       "stroke                 int64\n",
       "dtype: object"
      ]
     },
     "execution_count": 164,
     "metadata": {},
     "output_type": "execute_result"
    }
   ],
   "source": [
    "# Get data types of columns\n",
    "dataframe.dtypes"
   ]
  },
  {
   "cell_type": "code",
   "execution_count": 165,
   "id": "8588a975",
   "metadata": {},
   "outputs": [
    {
     "name": "stdout",
     "output_type": "stream",
     "text": [
      "Female    2993\n",
      "Male      2112\n",
      "Other        1\n",
      "Name: gender, dtype: int64\n",
      "\n",
      "Yes    3351\n",
      "No     1755\n",
      "Name: ever_married, dtype: int64\n",
      "\n",
      "Private          2921\n",
      "Self-employed     819\n",
      "children          687\n",
      "Govt_job          657\n",
      "Never_worked       22\n",
      "Name: work_type, dtype: int64\n",
      "\n",
      "Urban    2595\n",
      "Rural    2511\n",
      "Name: Residence_type, dtype: int64\n",
      "\n",
      "never smoked       1890\n",
      "Unknown            1543\n",
      "formerly smoked     885\n",
      "smokes              788\n",
      "Name: smoking_status, dtype: int64\n",
      "\n"
     ]
    }
   ],
   "source": [
    "#View count of cells with object data type\n",
    "for d in dataframe.select_dtypes(include = 'object'):\n",
    "    print(dataframe[d].value_counts())\n",
    "    print(\"\")"
   ]
  },
  {
   "cell_type": "code",
   "execution_count": 166,
   "id": "32b74f2c",
   "metadata": {},
   "outputs": [],
   "source": [
    "# Change 'ever_married' , 'Residence_type' from binary values\n",
    "\n",
    "change_values = {\n",
    "  'ever_married': {\n",
    "    'No': 0,\n",
    "    'Yes': 1\n",
    "  },\n",
    "  'Residence_type': {\n",
    "    'Rural': 0,\n",
    "    'Urban': 1 \n",
    "  }\n",
    "}\n",
    "\n",
    "dataframe.replace(change_values, inplace=True)"
   ]
  },
  {
   "cell_type": "code",
   "execution_count": 167,
   "id": "3efb132c",
   "metadata": {},
   "outputs": [
    {
     "data": {
      "text/html": [
       "<div>\n",
       "<style scoped>\n",
       "    .dataframe tbody tr th:only-of-type {\n",
       "        vertical-align: middle;\n",
       "    }\n",
       "\n",
       "    .dataframe tbody tr th {\n",
       "        vertical-align: top;\n",
       "    }\n",
       "\n",
       "    .dataframe thead th {\n",
       "        text-align: right;\n",
       "    }\n",
       "</style>\n",
       "<table border=\"1\" class=\"dataframe\">\n",
       "  <thead>\n",
       "    <tr style=\"text-align: right;\">\n",
       "      <th></th>\n",
       "      <th>gender</th>\n",
       "      <th>smoking_status</th>\n",
       "    </tr>\n",
       "  </thead>\n",
       "  <tbody>\n",
       "    <tr>\n",
       "      <th>0</th>\n",
       "      <td>1.0</td>\n",
       "      <td>1.0</td>\n",
       "    </tr>\n",
       "    <tr>\n",
       "      <th>1</th>\n",
       "      <td>0.0</td>\n",
       "      <td>2.0</td>\n",
       "    </tr>\n",
       "    <tr>\n",
       "      <th>2</th>\n",
       "      <td>1.0</td>\n",
       "      <td>2.0</td>\n",
       "    </tr>\n",
       "    <tr>\n",
       "      <th>3</th>\n",
       "      <td>0.0</td>\n",
       "      <td>3.0</td>\n",
       "    </tr>\n",
       "    <tr>\n",
       "      <th>4</th>\n",
       "      <td>0.0</td>\n",
       "      <td>2.0</td>\n",
       "    </tr>\n",
       "    <tr>\n",
       "      <th>5</th>\n",
       "      <td>1.0</td>\n",
       "      <td>1.0</td>\n",
       "    </tr>\n",
       "    <tr>\n",
       "      <th>6</th>\n",
       "      <td>1.0</td>\n",
       "      <td>2.0</td>\n",
       "    </tr>\n",
       "    <tr>\n",
       "      <th>7</th>\n",
       "      <td>0.0</td>\n",
       "      <td>2.0</td>\n",
       "    </tr>\n",
       "    <tr>\n",
       "      <th>8</th>\n",
       "      <td>0.0</td>\n",
       "      <td>0.0</td>\n",
       "    </tr>\n",
       "    <tr>\n",
       "      <th>9</th>\n",
       "      <td>0.0</td>\n",
       "      <td>0.0</td>\n",
       "    </tr>\n",
       "  </tbody>\n",
       "</table>\n",
       "</div>"
      ],
      "text/plain": [
       "   gender  smoking_status\n",
       "0     1.0             1.0\n",
       "1     0.0             2.0\n",
       "2     1.0             2.0\n",
       "3     0.0             3.0\n",
       "4     0.0             2.0\n",
       "5     1.0             1.0\n",
       "6     1.0             2.0\n",
       "7     0.0             2.0\n",
       "8     0.0             0.0\n",
       "9     0.0             0.0"
      ]
     },
     "execution_count": 167,
     "metadata": {},
     "output_type": "execute_result"
    }
   ],
   "source": [
    "# Encode 'smoking_status' and 'gender' columns with numerical values using label encoding\n",
    "ordinal_encoder = OrdinalEncoder()\n",
    "dataframe[['gender', 'smoking_status']] = ordinal_encoder.fit_transform(dataframe[['gender', 'smoking_status']])\n",
    "dataframe[['gender', 'smoking_status']].head(10)"
   ]
  },
  {
   "cell_type": "code",
   "execution_count": 168,
   "id": "fbf118d1",
   "metadata": {},
   "outputs": [
    {
     "data": {
      "text/html": [
       "<div>\n",
       "<style scoped>\n",
       "    .dataframe tbody tr th:only-of-type {\n",
       "        vertical-align: middle;\n",
       "    }\n",
       "\n",
       "    .dataframe tbody tr th {\n",
       "        vertical-align: top;\n",
       "    }\n",
       "\n",
       "    .dataframe thead th {\n",
       "        text-align: right;\n",
       "    }\n",
       "</style>\n",
       "<table border=\"1\" class=\"dataframe\">\n",
       "  <thead>\n",
       "    <tr style=\"text-align: right;\">\n",
       "      <th></th>\n",
       "      <th>gender</th>\n",
       "      <th>age</th>\n",
       "      <th>hypertension</th>\n",
       "      <th>heart_disease</th>\n",
       "      <th>ever_married</th>\n",
       "      <th>work_type</th>\n",
       "      <th>Residence_type</th>\n",
       "      <th>avg_glucose_level</th>\n",
       "      <th>bmi</th>\n",
       "      <th>smoking_status</th>\n",
       "      <th>stroke</th>\n",
       "    </tr>\n",
       "  </thead>\n",
       "  <tbody>\n",
       "    <tr>\n",
       "      <th>0</th>\n",
       "      <td>1.0</td>\n",
       "      <td>67.0</td>\n",
       "      <td>0</td>\n",
       "      <td>1</td>\n",
       "      <td>1</td>\n",
       "      <td>Private</td>\n",
       "      <td>1</td>\n",
       "      <td>228.69</td>\n",
       "      <td>36.600000</td>\n",
       "      <td>1.0</td>\n",
       "      <td>1</td>\n",
       "    </tr>\n",
       "    <tr>\n",
       "      <th>1</th>\n",
       "      <td>0.0</td>\n",
       "      <td>61.0</td>\n",
       "      <td>0</td>\n",
       "      <td>0</td>\n",
       "      <td>1</td>\n",
       "      <td>Self-employed</td>\n",
       "      <td>0</td>\n",
       "      <td>202.21</td>\n",
       "      <td>28.893237</td>\n",
       "      <td>2.0</td>\n",
       "      <td>1</td>\n",
       "    </tr>\n",
       "    <tr>\n",
       "      <th>2</th>\n",
       "      <td>1.0</td>\n",
       "      <td>80.0</td>\n",
       "      <td>0</td>\n",
       "      <td>1</td>\n",
       "      <td>1</td>\n",
       "      <td>Private</td>\n",
       "      <td>0</td>\n",
       "      <td>105.92</td>\n",
       "      <td>32.500000</td>\n",
       "      <td>2.0</td>\n",
       "      <td>1</td>\n",
       "    </tr>\n",
       "    <tr>\n",
       "      <th>3</th>\n",
       "      <td>0.0</td>\n",
       "      <td>49.0</td>\n",
       "      <td>0</td>\n",
       "      <td>0</td>\n",
       "      <td>1</td>\n",
       "      <td>Private</td>\n",
       "      <td>1</td>\n",
       "      <td>171.23</td>\n",
       "      <td>34.400000</td>\n",
       "      <td>3.0</td>\n",
       "      <td>1</td>\n",
       "    </tr>\n",
       "    <tr>\n",
       "      <th>4</th>\n",
       "      <td>0.0</td>\n",
       "      <td>79.0</td>\n",
       "      <td>1</td>\n",
       "      <td>0</td>\n",
       "      <td>1</td>\n",
       "      <td>Self-employed</td>\n",
       "      <td>0</td>\n",
       "      <td>174.12</td>\n",
       "      <td>24.000000</td>\n",
       "      <td>2.0</td>\n",
       "      <td>1</td>\n",
       "    </tr>\n",
       "  </tbody>\n",
       "</table>\n",
       "</div>"
      ],
      "text/plain": [
       "   gender   age  hypertension  heart_disease  ever_married      work_type  \\\n",
       "0     1.0  67.0             0              1             1        Private   \n",
       "1     0.0  61.0             0              0             1  Self-employed   \n",
       "2     1.0  80.0             0              1             1        Private   \n",
       "3     0.0  49.0             0              0             1        Private   \n",
       "4     0.0  79.0             1              0             1  Self-employed   \n",
       "\n",
       "   Residence_type  avg_glucose_level        bmi  smoking_status  stroke  \n",
       "0               1             228.69  36.600000             1.0       1  \n",
       "1               0             202.21  28.893237             2.0       1  \n",
       "2               0             105.92  32.500000             2.0       1  \n",
       "3               1             171.23  34.400000             3.0       1  \n",
       "4               0             174.12  24.000000             2.0       1  "
      ]
     },
     "execution_count": 168,
     "metadata": {},
     "output_type": "execute_result"
    }
   ],
   "source": [
    "#view fixing dataframe set \n",
    "dataframe.head()"
   ]
  },
  {
   "cell_type": "code",
   "execution_count": 169,
   "id": "837747ff",
   "metadata": {},
   "outputs": [],
   "source": [
    "# Receive backup of dataframe to maintain idempotency of the following cell\n",
    "dataframe_copy = dataframe"
   ]
  },
  {
   "cell_type": "code",
   "execution_count": 170,
   "id": "94b99551",
   "metadata": {},
   "outputs": [
    {
     "data": {
      "text/html": [
       "<div>\n",
       "<style scoped>\n",
       "    .dataframe tbody tr th:only-of-type {\n",
       "        vertical-align: middle;\n",
       "    }\n",
       "\n",
       "    .dataframe tbody tr th {\n",
       "        vertical-align: top;\n",
       "    }\n",
       "\n",
       "    .dataframe thead th {\n",
       "        text-align: right;\n",
       "    }\n",
       "</style>\n",
       "<table border=\"1\" class=\"dataframe\">\n",
       "  <thead>\n",
       "    <tr style=\"text-align: right;\">\n",
       "      <th></th>\n",
       "      <th>work_type_Govt_job</th>\n",
       "      <th>work_type_Never_worked</th>\n",
       "      <th>work_type_Private</th>\n",
       "      <th>work_type_Self-employed</th>\n",
       "      <th>work_type_children</th>\n",
       "      <th>gender</th>\n",
       "      <th>age</th>\n",
       "      <th>hypertension</th>\n",
       "      <th>heart_disease</th>\n",
       "      <th>ever_married</th>\n",
       "      <th>Residence_type</th>\n",
       "      <th>avg_glucose_level</th>\n",
       "      <th>bmi</th>\n",
       "      <th>smoking_status</th>\n",
       "      <th>stroke</th>\n",
       "    </tr>\n",
       "  </thead>\n",
       "  <tbody>\n",
       "    <tr>\n",
       "      <th>0</th>\n",
       "      <td>0.0</td>\n",
       "      <td>0.0</td>\n",
       "      <td>1.0</td>\n",
       "      <td>0.0</td>\n",
       "      <td>0.0</td>\n",
       "      <td>1.0</td>\n",
       "      <td>67.0</td>\n",
       "      <td>0.0</td>\n",
       "      <td>1.0</td>\n",
       "      <td>1.0</td>\n",
       "      <td>1.0</td>\n",
       "      <td>228.69</td>\n",
       "      <td>36.600000</td>\n",
       "      <td>1.0</td>\n",
       "      <td>1.0</td>\n",
       "    </tr>\n",
       "    <tr>\n",
       "      <th>1</th>\n",
       "      <td>0.0</td>\n",
       "      <td>0.0</td>\n",
       "      <td>0.0</td>\n",
       "      <td>1.0</td>\n",
       "      <td>0.0</td>\n",
       "      <td>0.0</td>\n",
       "      <td>61.0</td>\n",
       "      <td>0.0</td>\n",
       "      <td>0.0</td>\n",
       "      <td>1.0</td>\n",
       "      <td>0.0</td>\n",
       "      <td>202.21</td>\n",
       "      <td>28.893237</td>\n",
       "      <td>2.0</td>\n",
       "      <td>1.0</td>\n",
       "    </tr>\n",
       "    <tr>\n",
       "      <th>2</th>\n",
       "      <td>0.0</td>\n",
       "      <td>0.0</td>\n",
       "      <td>1.0</td>\n",
       "      <td>0.0</td>\n",
       "      <td>0.0</td>\n",
       "      <td>1.0</td>\n",
       "      <td>80.0</td>\n",
       "      <td>0.0</td>\n",
       "      <td>1.0</td>\n",
       "      <td>1.0</td>\n",
       "      <td>0.0</td>\n",
       "      <td>105.92</td>\n",
       "      <td>32.500000</td>\n",
       "      <td>2.0</td>\n",
       "      <td>1.0</td>\n",
       "    </tr>\n",
       "    <tr>\n",
       "      <th>3</th>\n",
       "      <td>0.0</td>\n",
       "      <td>0.0</td>\n",
       "      <td>1.0</td>\n",
       "      <td>0.0</td>\n",
       "      <td>0.0</td>\n",
       "      <td>0.0</td>\n",
       "      <td>49.0</td>\n",
       "      <td>0.0</td>\n",
       "      <td>0.0</td>\n",
       "      <td>1.0</td>\n",
       "      <td>1.0</td>\n",
       "      <td>171.23</td>\n",
       "      <td>34.400000</td>\n",
       "      <td>3.0</td>\n",
       "      <td>1.0</td>\n",
       "    </tr>\n",
       "    <tr>\n",
       "      <th>4</th>\n",
       "      <td>0.0</td>\n",
       "      <td>0.0</td>\n",
       "      <td>0.0</td>\n",
       "      <td>1.0</td>\n",
       "      <td>0.0</td>\n",
       "      <td>0.0</td>\n",
       "      <td>79.0</td>\n",
       "      <td>1.0</td>\n",
       "      <td>0.0</td>\n",
       "      <td>1.0</td>\n",
       "      <td>0.0</td>\n",
       "      <td>174.12</td>\n",
       "      <td>24.000000</td>\n",
       "      <td>2.0</td>\n",
       "      <td>1.0</td>\n",
       "    </tr>\n",
       "    <tr>\n",
       "      <th>5</th>\n",
       "      <td>0.0</td>\n",
       "      <td>0.0</td>\n",
       "      <td>1.0</td>\n",
       "      <td>0.0</td>\n",
       "      <td>0.0</td>\n",
       "      <td>1.0</td>\n",
       "      <td>81.0</td>\n",
       "      <td>0.0</td>\n",
       "      <td>0.0</td>\n",
       "      <td>1.0</td>\n",
       "      <td>1.0</td>\n",
       "      <td>186.21</td>\n",
       "      <td>29.000000</td>\n",
       "      <td>1.0</td>\n",
       "      <td>1.0</td>\n",
       "    </tr>\n",
       "    <tr>\n",
       "      <th>6</th>\n",
       "      <td>0.0</td>\n",
       "      <td>0.0</td>\n",
       "      <td>1.0</td>\n",
       "      <td>0.0</td>\n",
       "      <td>0.0</td>\n",
       "      <td>1.0</td>\n",
       "      <td>74.0</td>\n",
       "      <td>1.0</td>\n",
       "      <td>1.0</td>\n",
       "      <td>1.0</td>\n",
       "      <td>0.0</td>\n",
       "      <td>70.09</td>\n",
       "      <td>27.400000</td>\n",
       "      <td>2.0</td>\n",
       "      <td>1.0</td>\n",
       "    </tr>\n",
       "    <tr>\n",
       "      <th>7</th>\n",
       "      <td>0.0</td>\n",
       "      <td>0.0</td>\n",
       "      <td>1.0</td>\n",
       "      <td>0.0</td>\n",
       "      <td>0.0</td>\n",
       "      <td>0.0</td>\n",
       "      <td>69.0</td>\n",
       "      <td>0.0</td>\n",
       "      <td>0.0</td>\n",
       "      <td>0.0</td>\n",
       "      <td>1.0</td>\n",
       "      <td>94.39</td>\n",
       "      <td>22.800000</td>\n",
       "      <td>2.0</td>\n",
       "      <td>1.0</td>\n",
       "    </tr>\n",
       "    <tr>\n",
       "      <th>8</th>\n",
       "      <td>0.0</td>\n",
       "      <td>0.0</td>\n",
       "      <td>1.0</td>\n",
       "      <td>0.0</td>\n",
       "      <td>0.0</td>\n",
       "      <td>0.0</td>\n",
       "      <td>59.0</td>\n",
       "      <td>0.0</td>\n",
       "      <td>0.0</td>\n",
       "      <td>1.0</td>\n",
       "      <td>0.0</td>\n",
       "      <td>76.15</td>\n",
       "      <td>28.893237</td>\n",
       "      <td>0.0</td>\n",
       "      <td>1.0</td>\n",
       "    </tr>\n",
       "    <tr>\n",
       "      <th>9</th>\n",
       "      <td>0.0</td>\n",
       "      <td>0.0</td>\n",
       "      <td>1.0</td>\n",
       "      <td>0.0</td>\n",
       "      <td>0.0</td>\n",
       "      <td>0.0</td>\n",
       "      <td>78.0</td>\n",
       "      <td>0.0</td>\n",
       "      <td>0.0</td>\n",
       "      <td>1.0</td>\n",
       "      <td>1.0</td>\n",
       "      <td>58.57</td>\n",
       "      <td>24.200000</td>\n",
       "      <td>0.0</td>\n",
       "      <td>1.0</td>\n",
       "    </tr>\n",
       "    <tr>\n",
       "      <th>10</th>\n",
       "      <td>0.0</td>\n",
       "      <td>0.0</td>\n",
       "      <td>1.0</td>\n",
       "      <td>0.0</td>\n",
       "      <td>0.0</td>\n",
       "      <td>0.0</td>\n",
       "      <td>81.0</td>\n",
       "      <td>1.0</td>\n",
       "      <td>0.0</td>\n",
       "      <td>1.0</td>\n",
       "      <td>0.0</td>\n",
       "      <td>80.43</td>\n",
       "      <td>29.700000</td>\n",
       "      <td>2.0</td>\n",
       "      <td>1.0</td>\n",
       "    </tr>\n",
       "    <tr>\n",
       "      <th>11</th>\n",
       "      <td>1.0</td>\n",
       "      <td>0.0</td>\n",
       "      <td>0.0</td>\n",
       "      <td>0.0</td>\n",
       "      <td>0.0</td>\n",
       "      <td>0.0</td>\n",
       "      <td>61.0</td>\n",
       "      <td>0.0</td>\n",
       "      <td>1.0</td>\n",
       "      <td>1.0</td>\n",
       "      <td>0.0</td>\n",
       "      <td>120.46</td>\n",
       "      <td>36.800000</td>\n",
       "      <td>3.0</td>\n",
       "      <td>1.0</td>\n",
       "    </tr>\n",
       "    <tr>\n",
       "      <th>12</th>\n",
       "      <td>0.0</td>\n",
       "      <td>0.0</td>\n",
       "      <td>1.0</td>\n",
       "      <td>0.0</td>\n",
       "      <td>0.0</td>\n",
       "      <td>0.0</td>\n",
       "      <td>54.0</td>\n",
       "      <td>0.0</td>\n",
       "      <td>0.0</td>\n",
       "      <td>1.0</td>\n",
       "      <td>1.0</td>\n",
       "      <td>104.51</td>\n",
       "      <td>27.300000</td>\n",
       "      <td>3.0</td>\n",
       "      <td>1.0</td>\n",
       "    </tr>\n",
       "    <tr>\n",
       "      <th>13</th>\n",
       "      <td>0.0</td>\n",
       "      <td>0.0</td>\n",
       "      <td>1.0</td>\n",
       "      <td>0.0</td>\n",
       "      <td>0.0</td>\n",
       "      <td>1.0</td>\n",
       "      <td>78.0</td>\n",
       "      <td>0.0</td>\n",
       "      <td>1.0</td>\n",
       "      <td>1.0</td>\n",
       "      <td>1.0</td>\n",
       "      <td>219.84</td>\n",
       "      <td>28.893237</td>\n",
       "      <td>0.0</td>\n",
       "      <td>1.0</td>\n",
       "    </tr>\n",
       "    <tr>\n",
       "      <th>14</th>\n",
       "      <td>0.0</td>\n",
       "      <td>0.0</td>\n",
       "      <td>1.0</td>\n",
       "      <td>0.0</td>\n",
       "      <td>0.0</td>\n",
       "      <td>0.0</td>\n",
       "      <td>79.0</td>\n",
       "      <td>0.0</td>\n",
       "      <td>1.0</td>\n",
       "      <td>1.0</td>\n",
       "      <td>1.0</td>\n",
       "      <td>214.09</td>\n",
       "      <td>28.200000</td>\n",
       "      <td>2.0</td>\n",
       "      <td>1.0</td>\n",
       "    </tr>\n",
       "    <tr>\n",
       "      <th>15</th>\n",
       "      <td>0.0</td>\n",
       "      <td>0.0</td>\n",
       "      <td>0.0</td>\n",
       "      <td>1.0</td>\n",
       "      <td>0.0</td>\n",
       "      <td>0.0</td>\n",
       "      <td>50.0</td>\n",
       "      <td>1.0</td>\n",
       "      <td>0.0</td>\n",
       "      <td>1.0</td>\n",
       "      <td>0.0</td>\n",
       "      <td>167.41</td>\n",
       "      <td>30.900000</td>\n",
       "      <td>2.0</td>\n",
       "      <td>1.0</td>\n",
       "    </tr>\n",
       "    <tr>\n",
       "      <th>16</th>\n",
       "      <td>0.0</td>\n",
       "      <td>0.0</td>\n",
       "      <td>1.0</td>\n",
       "      <td>0.0</td>\n",
       "      <td>0.0</td>\n",
       "      <td>1.0</td>\n",
       "      <td>64.0</td>\n",
       "      <td>0.0</td>\n",
       "      <td>1.0</td>\n",
       "      <td>1.0</td>\n",
       "      <td>1.0</td>\n",
       "      <td>191.61</td>\n",
       "      <td>37.500000</td>\n",
       "      <td>3.0</td>\n",
       "      <td>1.0</td>\n",
       "    </tr>\n",
       "    <tr>\n",
       "      <th>17</th>\n",
       "      <td>0.0</td>\n",
       "      <td>0.0</td>\n",
       "      <td>1.0</td>\n",
       "      <td>0.0</td>\n",
       "      <td>0.0</td>\n",
       "      <td>1.0</td>\n",
       "      <td>75.0</td>\n",
       "      <td>1.0</td>\n",
       "      <td>0.0</td>\n",
       "      <td>1.0</td>\n",
       "      <td>1.0</td>\n",
       "      <td>221.29</td>\n",
       "      <td>25.800000</td>\n",
       "      <td>3.0</td>\n",
       "      <td>1.0</td>\n",
       "    </tr>\n",
       "    <tr>\n",
       "      <th>18</th>\n",
       "      <td>0.0</td>\n",
       "      <td>0.0</td>\n",
       "      <td>1.0</td>\n",
       "      <td>0.0</td>\n",
       "      <td>0.0</td>\n",
       "      <td>0.0</td>\n",
       "      <td>60.0</td>\n",
       "      <td>0.0</td>\n",
       "      <td>0.0</td>\n",
       "      <td>0.0</td>\n",
       "      <td>1.0</td>\n",
       "      <td>89.22</td>\n",
       "      <td>37.800000</td>\n",
       "      <td>2.0</td>\n",
       "      <td>1.0</td>\n",
       "    </tr>\n",
       "    <tr>\n",
       "      <th>19</th>\n",
       "      <td>1.0</td>\n",
       "      <td>0.0</td>\n",
       "      <td>0.0</td>\n",
       "      <td>0.0</td>\n",
       "      <td>0.0</td>\n",
       "      <td>1.0</td>\n",
       "      <td>57.0</td>\n",
       "      <td>0.0</td>\n",
       "      <td>1.0</td>\n",
       "      <td>0.0</td>\n",
       "      <td>1.0</td>\n",
       "      <td>217.08</td>\n",
       "      <td>28.893237</td>\n",
       "      <td>0.0</td>\n",
       "      <td>1.0</td>\n",
       "    </tr>\n",
       "  </tbody>\n",
       "</table>\n",
       "</div>"
      ],
      "text/plain": [
       "    work_type_Govt_job  work_type_Never_worked  work_type_Private  \\\n",
       "0                  0.0                     0.0                1.0   \n",
       "1                  0.0                     0.0                0.0   \n",
       "2                  0.0                     0.0                1.0   \n",
       "3                  0.0                     0.0                1.0   \n",
       "4                  0.0                     0.0                0.0   \n",
       "5                  0.0                     0.0                1.0   \n",
       "6                  0.0                     0.0                1.0   \n",
       "7                  0.0                     0.0                1.0   \n",
       "8                  0.0                     0.0                1.0   \n",
       "9                  0.0                     0.0                1.0   \n",
       "10                 0.0                     0.0                1.0   \n",
       "11                 1.0                     0.0                0.0   \n",
       "12                 0.0                     0.0                1.0   \n",
       "13                 0.0                     0.0                1.0   \n",
       "14                 0.0                     0.0                1.0   \n",
       "15                 0.0                     0.0                0.0   \n",
       "16                 0.0                     0.0                1.0   \n",
       "17                 0.0                     0.0                1.0   \n",
       "18                 0.0                     0.0                1.0   \n",
       "19                 1.0                     0.0                0.0   \n",
       "\n",
       "    work_type_Self-employed  work_type_children  gender   age  hypertension  \\\n",
       "0                       0.0                 0.0     1.0  67.0           0.0   \n",
       "1                       1.0                 0.0     0.0  61.0           0.0   \n",
       "2                       0.0                 0.0     1.0  80.0           0.0   \n",
       "3                       0.0                 0.0     0.0  49.0           0.0   \n",
       "4                       1.0                 0.0     0.0  79.0           1.0   \n",
       "5                       0.0                 0.0     1.0  81.0           0.0   \n",
       "6                       0.0                 0.0     1.0  74.0           1.0   \n",
       "7                       0.0                 0.0     0.0  69.0           0.0   \n",
       "8                       0.0                 0.0     0.0  59.0           0.0   \n",
       "9                       0.0                 0.0     0.0  78.0           0.0   \n",
       "10                      0.0                 0.0     0.0  81.0           1.0   \n",
       "11                      0.0                 0.0     0.0  61.0           0.0   \n",
       "12                      0.0                 0.0     0.0  54.0           0.0   \n",
       "13                      0.0                 0.0     1.0  78.0           0.0   \n",
       "14                      0.0                 0.0     0.0  79.0           0.0   \n",
       "15                      1.0                 0.0     0.0  50.0           1.0   \n",
       "16                      0.0                 0.0     1.0  64.0           0.0   \n",
       "17                      0.0                 0.0     1.0  75.0           1.0   \n",
       "18                      0.0                 0.0     0.0  60.0           0.0   \n",
       "19                      0.0                 0.0     1.0  57.0           0.0   \n",
       "\n",
       "    heart_disease  ever_married  Residence_type  avg_glucose_level        bmi  \\\n",
       "0             1.0           1.0             1.0             228.69  36.600000   \n",
       "1             0.0           1.0             0.0             202.21  28.893237   \n",
       "2             1.0           1.0             0.0             105.92  32.500000   \n",
       "3             0.0           1.0             1.0             171.23  34.400000   \n",
       "4             0.0           1.0             0.0             174.12  24.000000   \n",
       "5             0.0           1.0             1.0             186.21  29.000000   \n",
       "6             1.0           1.0             0.0              70.09  27.400000   \n",
       "7             0.0           0.0             1.0              94.39  22.800000   \n",
       "8             0.0           1.0             0.0              76.15  28.893237   \n",
       "9             0.0           1.0             1.0              58.57  24.200000   \n",
       "10            0.0           1.0             0.0              80.43  29.700000   \n",
       "11            1.0           1.0             0.0             120.46  36.800000   \n",
       "12            0.0           1.0             1.0             104.51  27.300000   \n",
       "13            1.0           1.0             1.0             219.84  28.893237   \n",
       "14            1.0           1.0             1.0             214.09  28.200000   \n",
       "15            0.0           1.0             0.0             167.41  30.900000   \n",
       "16            1.0           1.0             1.0             191.61  37.500000   \n",
       "17            0.0           1.0             1.0             221.29  25.800000   \n",
       "18            0.0           0.0             1.0              89.22  37.800000   \n",
       "19            1.0           0.0             1.0             217.08  28.893237   \n",
       "\n",
       "    smoking_status  stroke  \n",
       "0              1.0     1.0  \n",
       "1              2.0     1.0  \n",
       "2              2.0     1.0  \n",
       "3              3.0     1.0  \n",
       "4              2.0     1.0  \n",
       "5              1.0     1.0  \n",
       "6              2.0     1.0  \n",
       "7              2.0     1.0  \n",
       "8              0.0     1.0  \n",
       "9              0.0     1.0  \n",
       "10             2.0     1.0  \n",
       "11             3.0     1.0  \n",
       "12             3.0     1.0  \n",
       "13             0.0     1.0  \n",
       "14             2.0     1.0  \n",
       "15             2.0     1.0  \n",
       "16             3.0     1.0  \n",
       "17             3.0     1.0  \n",
       "18             2.0     1.0  \n",
       "19             0.0     1.0  "
      ]
     },
     "execution_count": 170,
     "metadata": {},
     "output_type": "execute_result"
    }
   ],
   "source": [
    "# Encode 'work_type' column with numerical values using one hot encoding\n",
    "\n",
    "work_type_transformer = make_column_transformer(\n",
    "  (OneHotEncoder(), ['work_type']),\n",
    "  remainder='passthrough',\n",
    "  verbose_feature_names_out=False\n",
    ")\n",
    "\n",
    "# Load backup dataframe to maintain idempotency\n",
    "dataframe = dataframe_copy\n",
    "\n",
    "work_type_transformed = work_type_transformer.fit_transform(dataframe)\n",
    "dataframe = pds.DataFrame(work_type_transformed, columns=work_type_transformer.get_feature_names_out())\n",
    "dataframe.head(20)"
   ]
  },
  {
   "cell_type": "code",
   "execution_count": 171,
   "id": "c9e7f8ab",
   "metadata": {},
   "outputs": [
    {
     "data": {
      "text/plain": [
       "(5106, 15)"
      ]
     },
     "execution_count": 171,
     "metadata": {},
     "output_type": "execute_result"
    }
   ],
   "source": [
    "#View additional column\n",
    "dataframe.shape"
   ]
  },
  {
   "cell_type": "code",
   "execution_count": 172,
   "id": "d77802f5",
   "metadata": {},
   "outputs": [
    {
     "data": {
      "image/png": "[encoded data removed]",
      "text/plain": [
       "<Figure size 1000x1000 with 1 Axes>"
      ]
     },
     "metadata": {},
     "output_type": "display_data"
    }
   ],
   "source": [
    "#plotting the correlation between target variable and other columns\n",
    "cor_relation=dataframe.corrwith(dataframe[\"stroke\"])\n",
    "cor_relation.plot(kind='bar')\n",
    "matplt.show()"
   ]
  },
  {
   "cell_type": "markdown",
   "id": "dc078698",
   "metadata": {},
   "source": [
    "## Model Training"
   ]
  },
  {
   "cell_type": "code",
   "execution_count": 173,
   "id": "826582d5",
   "metadata": {},
   "outputs": [],
   "source": [
    "#Data Splitting\n",
    "depent_axis = dataframe[\"stroke\"]\n",
    "independent_axis = dataframe.drop([\"stroke\"],axis=1)"
   ]
  },
  {
   "cell_type": "markdown",
   "id": "38eba82b",
   "metadata": {},
   "source": [
    "#### Scaling Dataset from Standardize"
   ]
  },
  {
   "cell_type": "code",
   "execution_count": 174,
   "id": "721200e8",
   "metadata": {},
   "outputs": [
    {
     "data": {
      "text/plain": [
       "array([[-0.38428327, -0.06578223,  0.86488814, ...,  2.70735058,\n",
       "         1.02882271, -0.35152937],\n",
       "       [-0.38428327, -0.06578223, -1.15621888, ...,  2.12229911,\n",
       "         0.00582143,  0.58186063],\n",
       "       [-0.38428327, -0.06578223,  0.86488814, ..., -0.00514071,\n",
       "         0.48458576,  0.58186063],\n",
       "       ...,\n",
       "       [-0.38428327, -0.06578223, -1.15621888, ..., -0.51175816,\n",
       "         0.23237839,  0.58186063],\n",
       "       [-0.38428327, -0.06578223,  0.86488814, ...,  1.32867944,\n",
       "        -0.4313252 , -0.35152937],\n",
       "       [ 2.60224701, -0.06578223, -1.15621888, ..., -0.4611627 ,\n",
       "        -0.35168077, -1.28491937]])"
      ]
     },
     "execution_count": 174,
     "metadata": {},
     "output_type": "execute_result"
    }
   ],
   "source": [
    "#Data Scaling\n",
    "scaler = StandardScaler()\n",
    "independent_axis = scaler.fit_transform(independent_axis)\n",
    "independent_axis"
   ]
  },
  {
   "cell_type": "markdown",
   "id": "ee0623c7",
   "metadata": {},
   "source": [
    "#### Split dataset into training and test sets"
   ]
  },
  {
   "cell_type": "code",
   "execution_count": 175,
   "id": "cfe1f698",
   "metadata": {},
   "outputs": [],
   "source": [
    "#data allocate the as train and test data\n",
    "x_train,x_test,y_train,y_test = train_test_split(independent_axis,depent_axis,test_size=0.2,random_state=42)\n"
   ]
  },
  {
   "cell_type": "code",
   "execution_count": 176,
   "id": "9430c83b",
   "metadata": {},
   "outputs": [],
   "source": [
    "#Preproces the dataframe to print name of the model models and their respecrive model accuracy\n",
    "model_accuracy = pds.DataFrame(columns=['Name of the Model','Model Accuracy'])"
   ]
  },
  {
   "cell_type": "markdown",
   "id": "631ce73a",
   "metadata": {},
   "source": [
    "## Before Oversampling Techniques"
   ]
  },
  {
   "cell_type": "markdown",
   "id": "74ae8463",
   "metadata": {},
   "source": [
    "### Random Forest Algorithum"
   ]
  },
  {
   "cell_type": "code",
   "execution_count": 177,
   "id": "7bee70c4",
   "metadata": {},
   "outputs": [
    {
     "name": "stdout",
     "output_type": "stream",
     "text": [
      "Presentage of Random Forest Classifier scores\n",
      "Random Forest Classifier Model accuracy\t: 0.9383561643835616\n",
      "Presentage\t: 93.8%\n",
      "              precision    recall  f1-score   support\n",
      "\n",
      "         0.0       0.94      1.00      0.97       960\n",
      "         1.0       0.00      0.00      0.00        62\n",
      "\n",
      "    accuracy                           0.94      1022\n",
      "   macro avg       0.47      0.50      0.48      1022\n",
      "weighted avg       0.88      0.94      0.91      1022\n",
      "\n",
      "Confusion Matrix - \n",
      "[[959   1]\n",
      " [ 62   0]]\n"
     ]
    },
    {
     "data": {
      "text/plain": [
       "<sklearn.metrics._plot.confusion_matrix.ConfusionMatrixDisplay at 0x2ca52d27c70>"
      ]
     },
     "execution_count": 177,
     "metadata": {},
     "output_type": "execute_result"
    },
    {
     "data": {
      "image/png": "[encoded data removed]",
      "text/plain": [
       "<Figure size 300x300 with 2 Axes>"
      ]
     },
     "metadata": {},
     "output_type": "display_data"
    }
   ],
   "source": [
    "#Creating a model using Random Forest Classifier\n",
    "random_model = RandomForestClassifier()\n",
    "#Training the model using training data\n",
    "random_model.fit(x_train, y_train)\n",
    "\n",
    "y_pred = random_model.predict(x_test)\n",
    "\n",
    "# Testing the model using the testing data\n",
    "r_accuracy = random_model.score(x_test, y_test)\n",
    "\n",
    "cm = confusion_matrix(y_test, y_pred)\n",
    "\n",
    "print('Presentage of Random Forest Classifier scores')\n",
    "print(f'Random Forest Classifier Model accuracy\\t: {r_accuracy}')\n",
    "print(f'Presentage\\t: {\"{:.1%}\".format(r_accuracy)}')\n",
    "print(classification_report(y_test, y_pred))\n",
    "model_accuracy = model_accuracy.append({'Name of the Model': 'Random Forest Classification', 'Model Accuracy': r_accuracy}, ignore_index=True)\n",
    "# Analysis the confusion matrix\n",
    "print('Confusion Matrix - ')\n",
    "print(cm)\n",
    "cmd = ConfusionMatrixDisplay(confusion_matrix=cm);\n",
    "figure, ax = matplt.subplots(figsize=(3,3))\n",
    "cmd.plot(ax=ax)"
   ]
  },
  {
   "cell_type": "markdown",
   "id": "5e1b6485",
   "metadata": {},
   "source": [
    "### Support Vector Machine Algorithum"
   ]
  },
  {
   "cell_type": "code",
   "execution_count": 178,
   "id": "7a4c937d",
   "metadata": {},
   "outputs": [
    {
     "name": "stdout",
     "output_type": "stream",
     "text": [
      "Presentage of Support vector Classifier scores\n",
      " Support vector Classifier Model accuracy\t: 0.9393346379647749\n",
      "Presentage\t: 93.9%\n",
      "              precision    recall  f1-score   support\n",
      "\n",
      "         0.0       0.94      1.00      0.97       960\n",
      "         1.0       0.00      0.00      0.00        62\n",
      "\n",
      "    accuracy                           0.94      1022\n",
      "   macro avg       0.47      0.50      0.48      1022\n",
      "weighted avg       0.88      0.94      0.91      1022\n",
      "\n",
      "Confusion Matrix - \n",
      "[[960   0]\n",
      " [ 62   0]]\n"
     ]
    },
    {
     "data": {
      "text/plain": [
       "<sklearn.metrics._plot.confusion_matrix.ConfusionMatrixDisplay at 0x2ca51543ca0>"
      ]
     },
     "execution_count": 178,
     "metadata": {},
     "output_type": "execute_result"
    },
    {
     "data": {
      "image/png": "[encoded data removed]",
      "text/plain": [
       "<Figure size 300x300 with 2 Axes>"
      ]
     },
     "metadata": {},
     "output_type": "display_data"
    }
   ],
   "source": [
    "# Create a model using Support vector machine classifier\n",
    "model = SVC()\n",
    "# Train the model using the training set\n",
    "model.fit(x_train, y_train)\n",
    "\n",
    "y_pred = model.predict(x_test)\n",
    "\n",
    "# Testing the model using the testing data\n",
    "s_accuracy = model.score(x_test, y_test)\n",
    "\n",
    "y_pred = model.predict(x_test)\n",
    "\n",
    "cm = confusion_matrix(y_test, y_pred)\n",
    "\n",
    "print('Presentage of Support vector Classifier scores')\n",
    "print(f' Support vector Classifier Model accuracy\\t: {s_accuracy}')\n",
    "print(f'Presentage\\t: {\"{:.1%}\".format(s_accuracy)}')\n",
    "print(classification_report(y_test, y_pred))\n",
    "model_accuracy = model_accuracy.append({'Name of the Model': 'Support vector machine Classification', 'Model Accuracy': s_accuracy}, ignore_index=True)\n",
    "# Analysis the confusion matrix\n",
    "print('Confusion Matrix - ')\n",
    "print(cm)\n",
    "cmd = ConfusionMatrixDisplay(confusion_matrix=cm);\n",
    "figure, ax = matplt.subplots(figsize=(3,3))\n",
    "cmd.plot(ax=ax)\n"
   ]
  },
  {
   "cell_type": "markdown",
   "id": "051032e3",
   "metadata": {},
   "source": [
    "### Decision Tree Algorithum"
   ]
  },
  {
   "cell_type": "code",
   "execution_count": 179,
   "id": "1f46b579",
   "metadata": {},
   "outputs": [
    {
     "name": "stdout",
     "output_type": "stream",
     "text": [
      "Decision Tree scores\n",
      "Decision Tree Model accuracy\t: 0.9031311154598826\n",
      "Presentage\t: 90.3%\n",
      "              precision    recall  f1-score   support\n",
      "\n",
      "         0.0       0.95      0.95      0.95       960\n",
      "         1.0       0.18      0.16      0.17        62\n",
      "\n",
      "    accuracy                           0.90      1022\n",
      "   macro avg       0.56      0.56      0.56      1022\n",
      "weighted avg       0.90      0.90      0.90      1022\n",
      "\n",
      "Confusion Matrix - \n",
      "[[913  47]\n",
      " [ 52  10]]\n",
      "Confusion Matrix - \n",
      "[[913  47]\n",
      " [ 52  10]]\n"
     ]
    },
    {
     "data": {
      "text/plain": [
       "<sklearn.metrics._plot.confusion_matrix.ConfusionMatrixDisplay at 0x2ca51540be0>"
      ]
     },
     "execution_count": 179,
     "metadata": {},
     "output_type": "execute_result"
    },
    {
     "data": {
      "image/png": "[encoded data removed]",
      "text/plain": [
       "<Figure size 300x300 with 2 Axes>"
      ]
     },
     "metadata": {},
     "output_type": "display_data"
    }
   ],
   "source": [
    "#Create a model using Decision Tree Algorithum\n",
    "model = DecisionTreeClassifier()\n",
    "#Train the model using the training set\n",
    "model.fit(x_train, y_train)\n",
    "\n",
    "y_pred = model.predict(x_test)\n",
    "\n",
    "# Test the model using the testing set\n",
    "d_accuracy = model.score(x_test, y_test)\n",
    "\n",
    "cm = confusion_matrix(y_test, y_pred)\n",
    "\n",
    "print('Decision Tree scores')\n",
    "print(f'Decision Tree Model accuracy\\t: {d_accuracy}')\n",
    "print(f'Presentage\\t: {\"{:.1%}\".format(d_accuracy)}')\n",
    "print(classification_report(y_test, y_pred))\n",
    "model_accuracy = model_accuracy.append({'Name of the Model': 'Decision Tree', 'Model Accuracy': d_accuracy}, ignore_index=True)\n",
    "# Getting the confusion matrix\n",
    "print('Confusion Matrix - ')\n",
    "print(confusion_matrix(y_test, y_pred))\n",
    "# Analysis the confusion matrix\n",
    "print('Confusion Matrix - ')\n",
    "print(cm)\n",
    "cmd = ConfusionMatrixDisplay(confusion_matrix=cm);\n",
    "figure, ax = matplt.subplots(figsize=(3,3))\n",
    "cmd.plot(ax=ax)\n"
   ]
  },
  {
   "cell_type": "markdown",
   "id": "4aa37bd6",
   "metadata": {},
   "source": [
    "### Logistic Regression Algorithum"
   ]
  },
  {
   "cell_type": "code",
   "execution_count": 180,
   "id": "fc79cdaa",
   "metadata": {},
   "outputs": [
    {
     "name": "stdout",
     "output_type": "stream",
     "text": [
      "Logistic Regression scores\n",
      "Logistic Regression Model accuracy\t: 0.9393346379647749\n",
      "Percentage\t: 93.9%\n",
      "              precision    recall  f1-score   support\n",
      "\n",
      "         0.0       0.94      1.00      0.97       960\n",
      "         1.0       0.00      0.00      0.00        62\n",
      "\n",
      "    accuracy                           0.94      1022\n",
      "   macro avg       0.47      0.50      0.48      1022\n",
      "weighted avg       0.88      0.94      0.91      1022\n",
      "\n",
      "Confusion Matrix - \n",
      "[[960   0]\n",
      " [ 62   0]]\n",
      "Confusion Matrix - \n",
      "[[960   0]\n",
      " [ 62   0]]\n"
     ]
    },
    {
     "data": {
      "text/plain": [
       "<sklearn.metrics._plot.confusion_matrix.ConfusionMatrixDisplay at 0x2ca547c2710>"
      ]
     },
     "execution_count": 180,
     "metadata": {},
     "output_type": "execute_result"
    },
    {
     "data": {
      "image/png": "[encoded data removed]",
      "text/plain": [
       "<Figure size 300x300 with 2 Axes>"
      ]
     },
     "metadata": {},
     "output_type": "display_data"
    }
   ],
   "source": [
    "#Create a model using Logistic Regression Algorithum\n",
    "model = LogisticRegression()\n",
    "#Train the model using the training set\n",
    "model.fit(x_train, y_train)\n",
    "\n",
    "y_pred = model.predict(x_test)\n",
    "\n",
    "# Test the model using the testing set\n",
    "l_accuracy = model.score(x_test, y_test)\n",
    "\n",
    "cm = confusion_matrix(y_test, y_pred)\n",
    "\n",
    "print('Logistic Regression scores')\n",
    "print(f'Logistic Regression Model accuracy\\t: {l_accuracy}')\n",
    "print(f'Percentage\\t: {\"{:.1%}\".format(l_accuracy)}')\n",
    "print(classification_report(y_test, y_pred))\n",
    "model_accuracy = model_accuracy.append({'Name of the Model': 'Logistic Regression Algorithum', 'Model Accuracy': l_accuracy}, ignore_index=True)\n",
    "# Getting the confusion matrix\n",
    "print('Confusion Matrix - ')\n",
    "print(confusion_matrix(y_test, y_pred))\n",
    "# Analysis the confusion matrix\n",
    "print('Confusion Matrix - ')\n",
    "print(cm)\n",
    "cmd = ConfusionMatrixDisplay(confusion_matrix=cm);\n",
    "figure, ax = matplt.subplots(figsize=(3,3))\n",
    "cmd.plot(ax=ax)\n"
   ]
  },
  {
   "cell_type": "markdown",
   "id": "f86169e6",
   "metadata": {},
   "source": [
    "### For the data imbalance"
   ]
  },
  {
   "cell_type": "code",
   "execution_count": 181,
   "id": "9f4d853f",
   "metadata": {},
   "outputs": [
    {
     "data": {
      "text/plain": [
       "<Axes: xlabel='stroke', ylabel='count'>"
      ]
     },
     "execution_count": 181,
     "metadata": {},
     "output_type": "execute_result"
    },
    {
     "data": {
      "image/png": "[encoded data removed]",
      "text/plain": [
       "<Figure size 1000x1000 with 1 Axes>"
      ]
     },
     "metadata": {},
     "output_type": "display_data"
    }
   ],
   "source": [
    "sns.countplot(x='stroke',data=dataframe)"
   ]
  },
  {
   "cell_type": "code",
   "execution_count": 182,
   "id": "7fab895f",
   "metadata": {},
   "outputs": [
    {
     "name": "stdout",
     "output_type": "stream",
     "text": [
      "Presentage of people stroking = \n"
     ]
    },
    {
     "data": {
      "text/plain": [
       "4.876615746180963"
      ]
     },
     "execution_count": 182,
     "metadata": {},
     "output_type": "execute_result"
    }
   ],
   "source": [
    "#Count number of people who has experienced a stroke or not\n",
    "dataframe['stroke'].value_counts()\n",
    "\n",
    "print(\"Presentage of people stroking = \")\n",
    "len(dataframe[dataframe['stroke'] == 1])/len(dataframe)*100"
   ]
  },
  {
   "cell_type": "markdown",
   "id": "fda95a4b",
   "metadata": {},
   "source": [
    "### Apply oversampling method for the dataframe"
   ]
  },
  {
   "cell_type": "code",
   "execution_count": 183,
   "id": "a9bf4739",
   "metadata": {},
   "outputs": [
    {
     "data": {
      "text/plain": [
       "<Axes: xlabel='stroke', ylabel='count'>"
      ]
     },
     "execution_count": 183,
     "metadata": {},
     "output_type": "execute_result"
    },
    {
     "data": {
      "image/png": "[encoded data removed]",
      "text/plain": [
       "<Figure size 1000x1000 with 1 Axes>"
      ]
     },
     "metadata": {},
     "output_type": "display_data"
    }
   ],
   "source": [
    "# For the data imbalance apply oversamping techniques\n",
    "independent_axis, depent_axis = SMOTE().fit_resample(independent_axis, depent_axis)\n",
    "\n",
    "#Viewing plot\n",
    "sns.countplot(x=depent_axis, data=dataframe)"
   ]
  },
  {
   "cell_type": "markdown",
   "id": "a0e3df51",
   "metadata": {},
   "source": [
    "### After OverSampling Techniques"
   ]
  },
  {
   "cell_type": "code",
   "execution_count": 184,
   "id": "ac8f8495",
   "metadata": {},
   "outputs": [],
   "source": [
    "#Again data allocate the as train and test data\n",
    "x_train,x_test,y_train,y_test = train_test_split(independent_axis,depent_axis,test_size=0.2,random_state=42)"
   ]
  },
  {
   "cell_type": "code",
   "execution_count": 185,
   "id": "7bdd9e4e",
   "metadata": {},
   "outputs": [],
   "source": [
    "#Preproces the dataframe to print name of the model models and their respecrive model accuracy\n",
    "model_accuracy = pds.DataFrame(columns=['Name of the Model','Model Accuracy'])"
   ]
  },
  {
   "cell_type": "markdown",
   "id": "3884500e",
   "metadata": {},
   "source": [
    "### Random Forest Algorithum"
   ]
  },
  {
   "cell_type": "code",
   "execution_count": 187,
   "id": "b36bf2d2",
   "metadata": {},
   "outputs": [
    {
     "name": "stdout",
     "output_type": "stream",
     "text": [
      "Presentage of Random Forest Classifier scores\n",
      "Random Forest Classifier Model accuracy\t: 0.9634585692228512\n",
      "Presentage\t: 96.3%\n",
      "              precision    recall  f1-score   support\n",
      "\n",
      "         0.0       0.97      0.95      0.96       962\n",
      "         1.0       0.95      0.98      0.96       981\n",
      "\n",
      "    accuracy                           0.96      1943\n",
      "   macro avg       0.96      0.96      0.96      1943\n",
      "weighted avg       0.96      0.96      0.96      1943\n",
      "\n",
      "Confusion Matrix - \n",
      "[[915  47]\n",
      " [ 24 957]]\n"
     ]
    },
    {
     "data": {
      "text/plain": [
       "<sklearn.metrics._plot.confusion_matrix.ConfusionMatrixDisplay at 0x2ca507d2a10>"
      ]
     },
     "execution_count": 187,
     "metadata": {},
     "output_type": "execute_result"
    },
    {
     "data": {
      "image/png": "[encoded data removed]",
      "text/plain": [
       "<Figure size 300x300 with 2 Axes>"
      ]
     },
     "metadata": {},
     "output_type": "display_data"
    }
   ],
   "source": [
    "#Creating a model using Random Forest Classifier\n",
    "random_model = RandomForestClassifier()\n",
    "#Training the model using training data\n",
    "random_model.fit(x_train, y_train)\n",
    "\n",
    "y_pred = random_model.predict(x_test)\n",
    "\n",
    "# Testing the model using the testing data\n",
    "r_accuracy = random_model.score(x_test, y_test)\n",
    "\n",
    "cm = confusion_matrix(y_test, y_pred)\n",
    "\n",
    "print('Presentage of Random Forest Classifier scores')\n",
    "print(f'Random Forest Classifier Model accuracy\\t: {r_accuracy}')\n",
    "print(f'Presentage\\t: {\"{:.1%}\".format(r_accuracy)}')\n",
    "print(classification_report(y_test, y_pred))\n",
    "model_accuracy = model_accuracy.append({'Name of the Model': 'Random Forest Classification', 'Model Accuracy': r_accuracy}, ignore_index=True)\n",
    "# Analysis the confusion matrix\n",
    "print('Confusion Matrix - ')\n",
    "print(cm)\n",
    "cmd = ConfusionMatrixDisplay(confusion_matrix=cm);\n",
    "figure, ax = matplt.subplots(figsize=(3,3))\n",
    "cmd.plot(ax=ax)"
   ]
  },
  {
   "cell_type": "markdown",
   "id": "868ccbe8",
   "metadata": {},
   "source": [
    "### Support Vector Machine Algorithum"
   ]
  },
  {
   "cell_type": "code",
   "execution_count": 188,
   "id": "d790575c",
   "metadata": {},
   "outputs": [
    {
     "name": "stdout",
     "output_type": "stream",
     "text": [
      "Presentage of Support vector Classifier scores\n",
      " Support vector Classifier Model accuracy\t: 0.8425115800308801\n",
      "Presentage\t: 84.3%\n",
      "              precision    recall  f1-score   support\n",
      "\n",
      "         0.0       0.91      0.76      0.83       962\n",
      "         1.0       0.80      0.93      0.86       981\n",
      "\n",
      "    accuracy                           0.84      1943\n",
      "   macro avg       0.85      0.84      0.84      1943\n",
      "weighted avg       0.85      0.84      0.84      1943\n",
      "\n",
      "Confusion Matrix - \n",
      "[[729 233]\n",
      " [ 73 908]]\n"
     ]
    },
    {
     "data": {
      "text/plain": [
       "<sklearn.metrics._plot.confusion_matrix.ConfusionMatrixDisplay at 0x2ca51b0ea10>"
      ]
     },
     "execution_count": 188,
     "metadata": {},
     "output_type": "execute_result"
    },
    {
     "data": {
      "image/png": "[encoded data removed]",
      "text/plain": [
       "<Figure size 300x300 with 2 Axes>"
      ]
     },
     "metadata": {},
     "output_type": "display_data"
    }
   ],
   "source": [
    "# Create a model using Support vector machine classifier\n",
    "model = SVC()\n",
    "# Train the model using the training set\n",
    "model.fit(x_train, y_train)\n",
    "\n",
    "y_pred = model.predict(x_test)\n",
    "\n",
    "# Testing the model using the testing data\n",
    "s_accuracy = model.score(x_test, y_test)\n",
    "\n",
    "y_pred = model.predict(x_test)\n",
    "\n",
    "cm = confusion_matrix(y_test, y_pred)\n",
    "\n",
    "print('Presentage of Support vector Classifier scores')\n",
    "print(f' Support vector Classifier Model accuracy\\t: {s_accuracy}')\n",
    "print(f'Presentage\\t: {\"{:.1%}\".format(s_accuracy)}')\n",
    "print(classification_report(y_test, y_pred))\n",
    "model_accuracy = model_accuracy.append({'Name of the Model': 'Support vector machine Classification', 'Model Accuracy': s_accuracy}, ignore_index=True)\n",
    "# Analysis the confusion matrix\n",
    "print('Confusion Matrix - ')\n",
    "print(cm)\n",
    "cmd = ConfusionMatrixDisplay(confusion_matrix=cm);\n",
    "figure, ax = matplt.subplots(figsize=(3,3))\n",
    "cmd.plot(ax=ax)"
   ]
  },
  {
   "cell_type": "markdown",
   "id": "03f168b4",
   "metadata": {},
   "source": [
    "### Decision Tree Algorithum"
   ]
  },
  {
   "cell_type": "code",
   "execution_count": 189,
   "id": "ac15728a",
   "metadata": {},
   "outputs": [
    {
     "name": "stdout",
     "output_type": "stream",
     "text": [
      "Decision Tree scores\n",
      "Decision Tree Model accuracy\t: 0.9058157488419969\n",
      "Presentage\t: 90.6%\n",
      "              precision    recall  f1-score   support\n",
      "\n",
      "         0.0       0.91      0.90      0.90       962\n",
      "         1.0       0.90      0.92      0.91       981\n",
      "\n",
      "    accuracy                           0.91      1943\n",
      "   macro avg       0.91      0.91      0.91      1943\n",
      "weighted avg       0.91      0.91      0.91      1943\n",
      "\n",
      "Confusion Matrix - \n",
      "[[862 100]\n",
      " [ 83 898]]\n",
      "Confusion Matrix - \n",
      "[[862 100]\n",
      " [ 83 898]]\n"
     ]
    },
    {
     "data": {
      "text/plain": [
       "<sklearn.metrics._plot.confusion_matrix.ConfusionMatrixDisplay at 0x2ca52d26980>"
      ]
     },
     "execution_count": 189,
     "metadata": {},
     "output_type": "execute_result"
    },
    {
     "data": {
      "image/png": "[encoded data removed]",
      "text/plain": [
       "<Figure size 300x300 with 2 Axes>"
      ]
     },
     "metadata": {},
     "output_type": "display_data"
    }
   ],
   "source": [
    "#Create a model using Decision Tree Algorithum\n",
    "model = DecisionTreeClassifier()\n",
    "#Train the model using the training set\n",
    "model.fit(x_train, y_train)\n",
    "\n",
    "y_pred = model.predict(x_test)\n",
    "\n",
    "# Test the model using the testing set\n",
    "d_accuracy = model.score(x_test, y_test)\n",
    "\n",
    "cm = confusion_matrix(y_test, y_pred)\n",
    "\n",
    "print('Decision Tree scores')\n",
    "print(f'Decision Tree Model accuracy\\t: {d_accuracy}')\n",
    "print(f'Presentage\\t: {\"{:.1%}\".format(d_accuracy)}')\n",
    "print(classification_report(y_test, y_pred))\n",
    "model_accuracy = model_accuracy.append({'Name of the Model': 'Decision Tree', 'Model Accuracy': d_accuracy}, ignore_index=True)\n",
    "# Getting the confusion matrix\n",
    "print('Confusion Matrix - ')\n",
    "print(confusion_matrix(y_test, y_pred))\n",
    "# Analysis the confusion matrix\n",
    "print('Confusion Matrix - ')\n",
    "print(cm)\n",
    "cmd = ConfusionMatrixDisplay(confusion_matrix=cm);\n",
    "figure, ax = matplt.subplots(figsize=(3,3))\n",
    "cmd.plot(ax=ax)"
   ]
  },
  {
   "cell_type": "markdown",
   "id": "c15e14d8",
   "metadata": {},
   "source": [
    "### Logistic Regression Algorithum"
   ]
  },
  {
   "cell_type": "code",
   "execution_count": 190,
   "id": "e6d0c758",
   "metadata": {},
   "outputs": [
    {
     "name": "stdout",
     "output_type": "stream",
     "text": [
      "Logistic Regression scores\n",
      "Logistic Regression Model accuracy\t: 0.7858980957282553\n",
      "Percentage\t: 78.6%\n",
      "              precision    recall  f1-score   support\n",
      "\n",
      "         0.0       0.81      0.74      0.77       962\n",
      "         1.0       0.76      0.83      0.80       981\n",
      "\n",
      "    accuracy                           0.79      1943\n",
      "   macro avg       0.79      0.79      0.79      1943\n",
      "weighted avg       0.79      0.79      0.79      1943\n",
      "\n",
      "Confusion Matrix - \n",
      "[[709 253]\n",
      " [163 818]]\n",
      "Confusion Matrix - \n",
      "[[709 253]\n",
      " [163 818]]\n"
     ]
    },
    {
     "data": {
      "text/plain": [
       "<sklearn.metrics._plot.confusion_matrix.ConfusionMatrixDisplay at 0x2ca5151d5a0>"
      ]
     },
     "execution_count": 190,
     "metadata": {},
     "output_type": "execute_result"
    },
    {
     "data": {
      "image/png": "[encoded data removed]",
      "text/plain": [
       "<Figure size 300x300 with 2 Axes>"
      ]
     },
     "metadata": {},
     "output_type": "display_data"
    }
   ],
   "source": [
    "#Create a model using Logistic Regression Algorithum\n",
    "model = LogisticRegression()\n",
    "#Train the model using the training set\n",
    "model.fit(x_train, y_train)\n",
    "\n",
    "y_pred = model.predict(x_test)\n",
    "\n",
    "# Test the model using the testing set\n",
    "l_accuracy = model.score(x_test, y_test)\n",
    "\n",
    "cm = confusion_matrix(y_test, y_pred)\n",
    "\n",
    "print('Logistic Regression scores')\n",
    "print(f'Logistic Regression Model accuracy\\t: {l_accuracy}')\n",
    "print(f'Percentage\\t: {\"{:.1%}\".format(l_accuracy)}')\n",
    "print(classification_report(y_test, y_pred))\n",
    "model_accuracy = model_accuracy.append({'Name of the Model': 'Logistic Regression Algorithum', 'Model Accuracy': l_accuracy}, ignore_index=True)\n",
    "# Getting the confusion matrix\n",
    "print('Confusion Matrix - ')\n",
    "print(confusion_matrix(y_test, y_pred))\n",
    "# Analysis the confusion matrix\n",
    "print('Confusion Matrix - ')\n",
    "print(cm)\n",
    "cmd = ConfusionMatrixDisplay(confusion_matrix=cm);\n",
    "figure, ax = matplt.subplots(figsize=(3,3))\n",
    "cmd.plot(ax=ax)"
   ]
  },
  {
   "cell_type": "code",
   "execution_count": 191,
   "id": "bca642b7",
   "metadata": {},
   "outputs": [
    {
     "name": "stdout",
     "output_type": "stream",
     "text": [
      "Model and it's respective accuracy after oversampling - \n",
      "                       Name of the Model  Model Accuracy\n",
      "0           Random Forest Classification        0.963459\n",
      "1  Support vector machine Classification        0.842512\n",
      "2                          Decision Tree        0.905816\n",
      "3         Logistic Regression Algorithum        0.785898\n"
     ]
    }
   ],
   "source": [
    "#View the model and respective accuracy\n",
    "print(\"Model and it's respective accuracy after oversampling - \")\n",
    "print(model_accuracy)"
   ]
  },
  {
   "cell_type": "code",
   "execution_count": 193,
   "id": "5355316b",
   "metadata": {},
   "outputs": [
    {
     "data": {
      "image/png": "[encoded data removed]",
      "text/plain": [
       "<Figure size 1000x1000 with 1 Axes>"
      ]
     },
     "metadata": {},
     "output_type": "display_data"
    }
   ],
   "source": [
    "#Compare Algorithum\n",
    "matplt.bar(['Decision Tree','Logistic Regression ','Random Forest','Support Vector Machine'],[d_accuracy,l_accuracy,r_accuracy,s_accuracy])\n",
    "matplt.xlabel(\"Algorithm Type\")\n",
    "matplt.ylabel(\"Model Accuracy\")\n",
    "matplt.show()"
   ]
  },
  {
   "cell_type": "code",
   "execution_count": null,
   "id": "b48c4e26",
   "metadata": {},
   "outputs": [],
   "source": []
  }
 ],
 "metadata": {
  "kernelspec": {
   "display_name": "Python 3 (ipykernel)",
   "language": "python",
   "name": "python3"
  },
  "language_info": {
   "codemirror_mode": {
    "name": "ipython",
    "version": 3
   },
   "file_extension": ".py",
   "mimetype": "text/x-python",
   "name": "python",
   "nbconvert_exporter": "python",
   "pygments_lexer": "ipython3",
   "version": "3.10.9"
  }
 },
 "nbformat": 4,
 "nbformat_minor": 5
}
