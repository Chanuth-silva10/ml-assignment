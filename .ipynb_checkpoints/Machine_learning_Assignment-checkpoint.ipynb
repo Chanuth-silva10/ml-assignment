{
 "cells": [
  {
   "cell_type": "markdown",
   "id": "6e991803",
   "metadata": {},
   "source": [
    "# Using machine learning to predict strokes"
   ]
  },
  {
   "cell_type": "markdown",
   "id": "01f5820a",
   "metadata": {},
   "source": [
    "## Data Preparation"
   ]
  },
  {
   "cell_type": "markdown",
   "id": "a86889a3",
   "metadata": {},
   "source": [
    "## Required Specific Libraries"
   ]
  },
  {
   "cell_type": "code",
   "execution_count": null,
   "id": "88aade4d",
   "metadata": {},
   "outputs": [],
   "source": [
    "# linear algebra\n",
    "import numpy as npy\n",
    "\n",
    "# data processing\n",
    "import pandas as pds\n",
    "\n",
    "# Visualizations\n",
    "import matplotlib.pyplot as matplt\n",
    "from matplotlib import rcParams\n",
    "import seaborn as sns\n",
    "%matplotlib inline"
   ]
  }
 ],
 "metadata": {
  "kernelspec": {
   "display_name": "Python 3 (ipykernel)",
   "language": "python",
   "name": "python3"
  },
  "language_info": {
   "codemirror_mode": {
    "name": "ipython",
    "version": 3
   },
   "file_extension": ".py",
   "mimetype": "text/x-python",
   "name": "python",
   "nbconvert_exporter": "python",
   "pygments_lexer": "ipython3",
   "version": "3.9.13"
  }
 },
 "nbformat": 4,
 "nbformat_minor": 5
}
